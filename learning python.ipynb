{
 "cells": [
  {
   "cell_type": "markdown",
   "id": "80ecf3da",
   "metadata": {},
   "source": [
    "**Numbers**"
   ]
  },
  {
   "cell_type": "code",
   "execution_count": 1,
   "id": "c128126d",
   "metadata": {},
   "outputs": [
    {
     "data": {
      "text/plain": [
       "4"
      ]
     },
     "execution_count": 1,
     "metadata": {},
     "output_type": "execute_result"
    }
   ],
   "source": [
    "2+2"
   ]
  },
  {
   "cell_type": "code",
   "execution_count": 2,
   "id": "5082f951",
   "metadata": {},
   "outputs": [
    {
     "data": {
      "text/plain": [
       "1.0"
      ]
     },
     "execution_count": 2,
     "metadata": {},
     "output_type": "execute_result"
    }
   ],
   "source": [
    "2.0/2"
   ]
  },
  {
   "cell_type": "code",
   "execution_count": 3,
   "id": "c4f95804",
   "metadata": {},
   "outputs": [
    {
     "data": {
      "text/plain": [
       "1.0"
      ]
     },
     "execution_count": 3,
     "metadata": {},
     "output_type": "execute_result"
    }
   ],
   "source": [
    "2.5//2.0"
   ]
  },
  {
   "cell_type": "code",
   "execution_count": 4,
   "id": "af674293",
   "metadata": {},
   "outputs": [
    {
     "data": {
      "text/plain": [
       "900"
      ]
     },
     "execution_count": 4,
     "metadata": {},
     "output_type": "execute_result"
    }
   ],
   "source": [
    "width=20\n",
    "height=5*9\n",
    "width*height"
   ]
  },
  {
   "cell_type": "code",
   "execution_count": 5,
   "id": "5e38b3cd",
   "metadata": {},
   "outputs": [
    {
     "data": {
      "text/plain": [
       "7.5"
      ]
     },
     "execution_count": 5,
     "metadata": {},
     "output_type": "execute_result"
    }
   ],
   "source": [
    "3*3.75/1.5"
   ]
  },
  {
   "cell_type": "markdown",
   "id": "80cf26ce",
   "metadata": {},
   "source": [
    "It is best to think of assignments as labeling values in memory. Thus, width is a\n",
    "label for the number 20"
   ]
  },
  {
   "cell_type": "code",
   "execution_count": 6,
   "id": "83110721",
   "metadata": {},
   "outputs": [
    {
     "name": "stdout",
     "output_type": "stream",
     "text": [
      "10\n"
     ]
    }
   ],
   "source": [
    "print(x:=10)"
   ]
  },
  {
   "cell_type": "code",
   "execution_count": 7,
   "id": "44df930d",
   "metadata": {},
   "outputs": [
    {
     "data": {
      "text/plain": [
       "10"
      ]
     },
     "execution_count": 7,
     "metadata": {},
     "output_type": "execute_result"
    }
   ],
   "source": [
    "x"
   ]
  },
  {
   "cell_type": "markdown",
   "id": "8b88af79",
   "metadata": {},
   "source": [
    "**the\n",
    "walrus assignment operator allows the assignment itself to have the value of the\n",
    "assignee,**"
   ]
  },
  {
   "cell_type": "markdown",
   "id": "46028eb8",
   "metadata": {},
   "source": [
    "**Python integers are of arbitrary length and can handle extremely large\n",
    "integers. This is because they are stored as a list of digits internally. This means that\n",
    "they are slower to manipulate than Numpy integers which have fixed bit-lengths,\n",
    "provided that the integer can fit into allocated memory.\n",
    "as in the following**"
   ]
  },
  {
   "cell_type": "code",
   "execution_count": 8,
   "id": "2c14954e",
   "metadata": {},
   "outputs": [
    {
     "data": {
      "text/plain": [
       "1"
      ]
     },
     "execution_count": 8,
     "metadata": {},
     "output_type": "execute_result"
    }
   ],
   "source": [
    "int(1.33333)"
   ]
  },
  {
   "cell_type": "code",
   "execution_count": 9,
   "id": "4245e224",
   "metadata": {},
   "outputs": [
    {
     "data": {
      "text/plain": [
       "1.0"
      ]
     },
     "execution_count": 9,
     "metadata": {},
     "output_type": "execute_result"
    }
   ],
   "source": [
    "float(1)"
   ]
  },
  {
   "cell_type": "code",
   "execution_count": 10,
   "id": "162d7611",
   "metadata": {},
   "outputs": [
    {
     "data": {
      "text/plain": [
       "int"
      ]
     },
     "execution_count": 10,
     "metadata": {},
     "output_type": "execute_result"
    }
   ],
   "source": [
    "type(1)"
   ]
  },
  {
   "cell_type": "code",
   "execution_count": 11,
   "id": "2a0d499f",
   "metadata": {},
   "outputs": [
    {
     "data": {
      "text/plain": [
       "float"
      ]
     },
     "execution_count": 11,
     "metadata": {},
     "output_type": "execute_result"
    }
   ],
   "source": [
    "type(float(1))"
   ]
  },
  {
   "cell_type": "markdown",
   "id": "164f59ab",
   "metadata": {},
   "source": [
    "**Complex Numbers**"
   ]
  },
  {
   "cell_type": "code",
   "execution_count": 12,
   "id": "4ff476d7",
   "metadata": {},
   "outputs": [
    {
     "data": {
      "text/plain": [
       "(-1+0j)"
      ]
     },
     "execution_count": 12,
     "metadata": {},
     "output_type": "execute_result"
    }
   ],
   "source": [
    "1j*1j"
   ]
  },
  {
   "cell_type": "code",
   "execution_count": 13,
   "id": "c4fcd4d3",
   "metadata": {},
   "outputs": [
    {
     "data": {
      "text/plain": [
       "(-1+0j)"
      ]
     },
     "execution_count": 13,
     "metadata": {},
     "output_type": "execute_result"
    }
   ],
   "source": [
    "1j*complex(0,1)"
   ]
  },
  {
   "cell_type": "code",
   "execution_count": 14,
   "id": "848f2a2f",
   "metadata": {},
   "outputs": [
    {
     "data": {
      "text/plain": [
       "(3+3j)"
      ]
     },
     "execution_count": 14,
     "metadata": {},
     "output_type": "execute_result"
    }
   ],
   "source": [
    "3+1j*3"
   ]
  },
  {
   "cell_type": "code",
   "execution_count": 15,
   "id": "e2e91400",
   "metadata": {},
   "outputs": [
    {
     "data": {
      "text/plain": [
       "(1.5+0.5j)"
      ]
     },
     "execution_count": 15,
     "metadata": {},
     "output_type": "execute_result"
    }
   ],
   "source": [
    "(1+2j)/(1+1j)"
   ]
  },
  {
   "cell_type": "code",
   "execution_count": 16,
   "id": "a3ca6c4a",
   "metadata": {},
   "outputs": [],
   "source": [
    "a=1.5+0.5j"
   ]
  },
  {
   "cell_type": "code",
   "execution_count": 17,
   "id": "e338f2b4",
   "metadata": {},
   "outputs": [
    {
     "data": {
      "text/plain": [
       "1.5"
      ]
     },
     "execution_count": 17,
     "metadata": {},
     "output_type": "execute_result"
    }
   ],
   "source": [
    "a.real\n"
   ]
  },
  {
   "cell_type": "code",
   "execution_count": 18,
   "id": "7b55ff76",
   "metadata": {},
   "outputs": [
    {
     "data": {
      "text/plain": [
       "0.5"
      ]
     },
     "execution_count": 18,
     "metadata": {},
     "output_type": "execute_result"
    }
   ],
   "source": [
    "a.imag"
   ]
  },
  {
   "cell_type": "code",
   "execution_count": 19,
   "id": "51e536a5",
   "metadata": {},
   "outputs": [
    {
     "ename": "TypeError",
     "evalue": "float() argument must be a string or a real number, not 'complex'",
     "output_type": "error",
     "traceback": [
      "\u001b[1;31m---------------------------------------------------------------------------\u001b[0m",
      "\u001b[1;31mTypeError\u001b[0m                                 Traceback (most recent call last)",
      "Cell \u001b[1;32mIn[19], line 1\u001b[0m\n\u001b[1;32m----> 1\u001b[0m \u001b[38;5;28mfloat\u001b[39m(a)\n",
      "\u001b[1;31mTypeError\u001b[0m: float() argument must be a string or a real number, not 'complex'"
     ]
    }
   ],
   "source": [
    "float(a)"
   ]
  },
  {
   "cell_type": "code",
   "execution_count": 20,
   "id": "8bdfb1cc",
   "metadata": {},
   "outputs": [],
   "source": [
    "a=3.0+4.0j"
   ]
  },
  {
   "cell_type": "code",
   "execution_count": 21,
   "id": "44291b60",
   "metadata": {},
   "outputs": [
    {
     "data": {
      "text/plain": [
       "5.0"
      ]
     },
     "execution_count": 21,
     "metadata": {},
     "output_type": "execute_result"
    }
   ],
   "source": [
    "abs(a)  # sqrt(a.real**2 + a.imag**2)"
   ]
  },
  {
   "cell_type": "code",
   "execution_count": 22,
   "id": "7e079b51",
   "metadata": {},
   "outputs": [
    {
     "data": {
      "text/plain": [
       "12.5625"
      ]
     },
     "execution_count": 22,
     "metadata": {},
     "output_type": "execute_result"
    }
   ],
   "source": [
    "tax=12.5/100\n",
    "price=100.50\n",
    "price*tax"
   ]
  },
  {
   "cell_type": "code",
   "execution_count": 23,
   "id": "66987cc2",
   "metadata": {},
   "outputs": [
    {
     "data": {
      "text/plain": [
       "113.0625"
      ]
     },
     "execution_count": 23,
     "metadata": {},
     "output_type": "execute_result"
    }
   ],
   "source": [
    "price+_  # the underscore character is the last evaluated result"
   ]
  },
  {
   "cell_type": "code",
   "execution_count": 24,
   "id": "ed5c454b",
   "metadata": {},
   "outputs": [
    {
     "data": {
      "text/plain": [
       "113.06"
      ]
     },
     "execution_count": 24,
     "metadata": {},
     "output_type": "execute_result"
    }
   ],
   "source": [
    "round(_,2)# the underscore character is the last evaluated"
   ]
  },
  {
   "cell_type": "markdown",
   "id": "03b662fa",
   "metadata": {},
   "source": [
    "**String**"
   ]
  },
  {
   "cell_type": "code",
   "execution_count": 25,
   "id": "1e7ea7b0",
   "metadata": {},
   "outputs": [
    {
     "data": {
      "text/plain": [
       "'spam eggs'"
      ]
     },
     "execution_count": 25,
     "metadata": {},
     "output_type": "execute_result"
    }
   ],
   "source": [
    "'spam eggs'"
   ]
  },
  {
   "cell_type": "code",
   "execution_count": 26,
   "id": "f415c729",
   "metadata": {},
   "outputs": [
    {
     "data": {
      "text/plain": [
       "\"doesn't\""
      ]
     },
     "execution_count": 26,
     "metadata": {},
     "output_type": "execute_result"
    }
   ],
   "source": [
    "'doesn\\'t'  # backslash defends single quote"
   ]
  },
  {
   "cell_type": "code",
   "execution_count": 27,
   "id": "f44660cc",
   "metadata": {},
   "outputs": [
    {
     "data": {
      "text/plain": [
       "\"doesn't\""
      ]
     },
     "execution_count": 27,
     "metadata": {},
     "output_type": "execute_result"
    }
   ],
   "source": [
    "\"doesn't\""
   ]
  },
  {
   "cell_type": "markdown",
   "id": "b1d388c6",
   "metadata": {},
   "source": [
    "**Slicing Strings: Python is a zero-indexed language"
   ]
  },
  {
   "cell_type": "code",
   "execution_count": 28,
   "id": "58437651",
   "metadata": {},
   "outputs": [],
   "source": [
    "word='Help'+'A'"
   ]
  },
  {
   "cell_type": "code",
   "execution_count": 29,
   "id": "b52262f7",
   "metadata": {},
   "outputs": [
    {
     "data": {
      "text/plain": [
       "'HelpA'"
      ]
     },
     "execution_count": 29,
     "metadata": {},
     "output_type": "execute_result"
    }
   ],
   "source": [
    "word"
   ]
  },
  {
   "cell_type": "code",
   "execution_count": 30,
   "id": "30e7ce05",
   "metadata": {},
   "outputs": [
    {
     "data": {
      "text/plain": [
       "'<HelpAHelpAHelpAHelpAHelpA>'"
      ]
     },
     "execution_count": 30,
     "metadata": {},
     "output_type": "execute_result"
    }
   ],
   "source": [
    "'<' + word*5  +'>'"
   ]
  },
  {
   "cell_type": "code",
   "execution_count": 31,
   "id": "4ee970bd",
   "metadata": {},
   "outputs": [
    {
     "data": {
      "text/plain": [
       "'A'"
      ]
     },
     "execution_count": 31,
     "metadata": {},
     "output_type": "execute_result"
    }
   ],
   "source": [
    "word[4]"
   ]
  },
  {
   "cell_type": "code",
   "execution_count": 32,
   "id": "2982d9d4",
   "metadata": {},
   "outputs": [
    {
     "data": {
      "text/plain": [
       "'H'"
      ]
     },
     "execution_count": 32,
     "metadata": {},
     "output_type": "execute_result"
    }
   ],
   "source": [
    "word[0]"
   ]
  },
  {
   "cell_type": "code",
   "execution_count": 33,
   "id": "2722b07c",
   "metadata": {},
   "outputs": [
    {
     "data": {
      "text/plain": [
       "'He'"
      ]
     },
     "execution_count": 33,
     "metadata": {},
     "output_type": "execute_result"
    }
   ],
   "source": [
    "word[0:2]"
   ]
  },
  {
   "cell_type": "code",
   "execution_count": 34,
   "id": "0e80e9ef",
   "metadata": {},
   "outputs": [
    {
     "data": {
      "text/plain": [
       "'lp'"
      ]
     },
     "execution_count": 34,
     "metadata": {},
     "output_type": "execute_result"
    }
   ],
   "source": [
    "word[2:4]"
   ]
  },
  {
   "cell_type": "code",
   "execution_count": 35,
   "id": "69dfbbac",
   "metadata": {},
   "outputs": [
    {
     "data": {
      "text/plain": [
       "'A'"
      ]
     },
     "execution_count": 35,
     "metadata": {},
     "output_type": "execute_result"
    }
   ],
   "source": [
    "word[-1:] #the last character"
   ]
  },
  {
   "cell_type": "code",
   "execution_count": 36,
   "id": "e2270c62",
   "metadata": {},
   "outputs": [
    {
     "data": {
      "text/plain": [
       "'pA'"
      ]
     },
     "execution_count": 36,
     "metadata": {},
     "output_type": "execute_result"
    }
   ],
   "source": [
    "word[-2:] #the last two character"
   ]
  },
  {
   "cell_type": "code",
   "execution_count": 37,
   "id": "d94ce7af",
   "metadata": {},
   "outputs": [
    {
     "data": {
      "text/plain": [
       "'Hel'"
      ]
     },
     "execution_count": 37,
     "metadata": {},
     "output_type": "execute_result"
    }
   ],
   "source": [
    "word[:-2] #everything except the last two characters"
   ]
  },
  {
   "cell_type": "markdown",
   "id": "3f866d4e",
   "metadata": {},
   "source": [
    "**String Operations Some basic numerical operations work with strings"
   ]
  },
  {
   "cell_type": "code",
   "execution_count": 38,
   "id": "d79c6907",
   "metadata": {},
   "outputs": [
    {
     "data": {
      "text/plain": [
       "'hey  you'"
      ]
     },
     "execution_count": 38,
     "metadata": {},
     "output_type": "execute_result"
    }
   ],
   "source": [
    "'hey ' + ' you' #concatenate with plus operator"
   ]
  },
  {
   "cell_type": "code",
   "execution_count": 39,
   "id": "883b004e",
   "metadata": {},
   "outputs": [
    {
     "data": {
      "text/plain": [
       "'hey hey hey '"
      ]
     },
     "execution_count": 39,
     "metadata": {},
     "output_type": "execute_result"
    }
   ],
   "source": [
    "'hey ' *3   #integer multiplication duplicate strings"
   ]
  },
  {
   "cell_type": "code",
   "execution_count": 40,
   "id": "07a0ab30",
   "metadata": {},
   "outputs": [
    {
     "data": {
      "text/plain": [
       "'hey you'"
      ]
     },
     "execution_count": 40,
     "metadata": {},
     "output_type": "execute_result"
    }
   ],
   "source": [
    "('hey ' 'you')"
   ]
  },
  {
   "cell_type": "code",
   "execution_count": 41,
   "id": "3ce28864",
   "metadata": {},
   "outputs": [
    {
     "data": {
      "text/plain": [
       "'This is a string'"
      ]
     },
     "execution_count": 41,
     "metadata": {},
     "output_type": "execute_result"
    }
   ],
   "source": [
    "x='This is a string'\n",
    "x"
   ]
  },
  {
   "cell_type": "code",
   "execution_count": 42,
   "id": "aaabd421",
   "metadata": {},
   "outputs": [
    {
     "data": {
      "text/plain": [
       "'This is a newstring'"
      ]
     },
     "execution_count": 42,
     "metadata": {},
     "output_type": "execute_result"
    }
   ],
   "source": [
    "x.replace('string','newstring')"
   ]
  },
  {
   "cell_type": "code",
   "execution_count": 43,
   "id": "50fa5c83",
   "metadata": {},
   "outputs": [
    {
     "data": {
      "text/plain": [
       "'This is a string'"
      ]
     },
     "execution_count": 43,
     "metadata": {},
     "output_type": "execute_result"
    }
   ],
   "source": [
    "x   #x hasn't changed yet"
   ]
  },
  {
   "cell_type": "markdown",
   "id": "ea30cc3b",
   "metadata": {},
   "source": [
    "**Formatting Strings"
   ]
  },
  {
   "cell_type": "code",
   "execution_count": 44,
   "id": "15afa17f",
   "metadata": {},
   "outputs": [
    {
     "data": {
      "text/plain": [
       "'this is a decimal number 10'"
      ]
     },
     "execution_count": 44,
     "metadata": {},
     "output_type": "execute_result"
    }
   ],
   "source": [
    "'this is a decimal number %d'%(10)"
   ]
  },
  {
   "cell_type": "code",
   "execution_count": 45,
   "id": "934a5917",
   "metadata": {},
   "outputs": [
    {
     "data": {
      "text/plain": [
       "'this is a float 10.33'"
      ]
     },
     "execution_count": 45,
     "metadata": {},
     "output_type": "execute_result"
    }
   ],
   "source": [
    "'this is a float %3.2f'%(10.33)"
   ]
  },
  {
   "cell_type": "code",
   "execution_count": 46,
   "id": "efcab7c6",
   "metadata": {},
   "outputs": [
    {
     "data": {
      "text/plain": [
       "'this is a variable1.030000e+00'"
      ]
     },
     "execution_count": 46,
     "metadata": {},
     "output_type": "execute_result"
    }
   ],
   "source": [
    "x=1.03\n",
    "'this is a variable%e'%(x)   #exponential format"
   ]
  },
  {
   "cell_type": "code",
   "execution_count": 47,
   "id": "ec0a217d",
   "metadata": {},
   "outputs": [
    {
     "data": {
      "text/plain": [
       "'The value of x=10'"
      ]
     },
     "execution_count": 47,
     "metadata": {},
     "output_type": "execute_result"
    }
   ],
   "source": [
    "x=10\n",
    "'The value of x='+str(x)"
   ]
  },
  {
   "cell_type": "code",
   "execution_count": 48,
   "id": "fd275120",
   "metadata": {},
   "outputs": [],
   "source": [
    "data={'x':10,'y':20.3}"
   ]
  },
  {
   "cell_type": "code",
   "execution_count": 49,
   "id": "242b0f7d",
   "metadata": {},
   "outputs": [
    {
     "data": {
      "text/plain": [
       "'the value of x= 10 and y=20.300000'"
      ]
     },
     "execution_count": 49,
     "metadata": {},
     "output_type": "execute_result"
    }
   ],
   "source": [
    "'the value of x= %(x)d and y=%(y)f'%(data)"
   ]
  },
  {
   "cell_type": "code",
   "execution_count": 50,
   "id": "0e2c5712",
   "metadata": {},
   "outputs": [
    {
     "data": {
      "text/plain": [
       "'x=10,y=20'"
      ]
     },
     "execution_count": 50,
     "metadata": {},
     "output_type": "execute_result"
    }
   ],
   "source": [
    "x=10\n",
    "y=20\n",
    "'x={0},y={1}'.format(x,y)"
   ]
  },
  {
   "cell_type": "code",
   "execution_count": 51,
   "id": "71d91e7e",
   "metadata": {},
   "outputs": [
    {
     "data": {
      "text/plain": [
       "'x=10,20;,y=20,10'"
      ]
     },
     "execution_count": 51,
     "metadata": {},
     "output_type": "execute_result"
    }
   ],
   "source": [
    "x=10\n",
    "y=20\n",
    "'x={0},{1};,y={1},{0}'.format(x,y)"
   ]
  },
  {
   "cell_type": "markdown",
   "id": "ef921c7a",
   "metadata": {},
   "source": [
    "**Python 2 Strings\n",
    "**In Python 2, the default string encoding was 7-bit ASCII. **There was no\n",
    "**distinction between bytes and strings. For example, you **could read from a\n",
    "**binary-encoded JPG file as in the following,\n",
    "**with open('hour_1a.jpg','r') as f:\n",
    "**x = f.read()\n",
    "**This works fine in Python 2 but throws a **UnicodeDecodeError error in\n",
    "**Python 3. To fix this in Python 3, you have to read using **the rb binary mode\n",
    "**instead of just the r file mode.**"
   ]
  },
  {
   "cell_type": "markdown",
   "id": "48257b8e",
   "metadata": {},
   "source": [
    "**Basic Data Structures**"
   ]
  },
  {
   "cell_type": "markdown",
   "id": "859b7b76",
   "metadata": {},
   "source": [
    "**List** \n",
    "\n",
    "\n",
    "**The list is an order-preserving general container that implements the\n",
    "sequence data structure.**"
   ]
  },
  {
   "cell_type": "code",
   "execution_count": 52,
   "id": "eac6cadb",
   "metadata": {},
   "outputs": [
    {
     "data": {
      "text/plain": [
       "[3, 'tree', 5.678, [8, 4, 2]]"
      ]
     },
     "execution_count": 52,
     "metadata": {},
     "output_type": "execute_result"
    }
   ],
   "source": [
    "mix=[3,'tree',5.678,[8,4,2]] #can contain sublists\n",
    "mix"
   ]
  },
  {
   "cell_type": "code",
   "execution_count": 53,
   "id": "92cd2c60",
   "metadata": {},
   "outputs": [
    {
     "data": {
      "text/plain": [
       "3"
      ]
     },
     "execution_count": 53,
     "metadata": {},
     "output_type": "execute_result"
    }
   ],
   "source": [
    "mix[0] # zero-indexed Python"
   ]
  },
  {
   "cell_type": "code",
   "execution_count": 54,
   "id": "801c3a1a",
   "metadata": {},
   "outputs": [
    {
     "data": {
      "text/plain": [
       "[8, 4, 2]"
      ]
     },
     "execution_count": 54,
     "metadata": {},
     "output_type": "execute_result"
    }
   ],
   "source": [
    "mix[-1] # get sublist"
   ]
  },
  {
   "cell_type": "code",
   "execution_count": 55,
   "id": "3ff0e0d7",
   "metadata": {},
   "outputs": [
    {
     "data": {
      "text/plain": [
       "[3, 'tree', 5.678]"
      ]
     },
     "execution_count": 55,
     "metadata": {},
     "output_type": "execute_result"
    }
   ],
   "source": [
    "mix[0:3]"
   ]
  },
  {
   "cell_type": "code",
   "execution_count": 56,
   "id": "d0eb9240",
   "metadata": {},
   "outputs": [
    {
     "data": {
      "text/plain": [
       "[8, 4, 2]"
      ]
     },
     "execution_count": 56,
     "metadata": {},
     "output_type": "execute_result"
    }
   ],
   "source": [
    "mix[3] # get sublist"
   ]
  },
  {
   "cell_type": "code",
   "execution_count": 57,
   "id": "bafcbbea",
   "metadata": {},
   "outputs": [
    {
     "data": {
      "text/plain": [
       "8"
      ]
     },
     "execution_count": 57,
     "metadata": {},
     "output_type": "execute_result"
    }
   ],
   "source": [
    "mix[-1][0]   #assessing the first element of the sublist"
   ]
  },
  {
   "cell_type": "code",
   "execution_count": 58,
   "id": "85ee38e6",
   "metadata": {},
   "outputs": [],
   "source": [
    "mix[0]=666  # lists are mutable"
   ]
  },
  {
   "cell_type": "code",
   "execution_count": 59,
   "id": "c539207e",
   "metadata": {},
   "outputs": [
    {
     "data": {
      "text/plain": [
       "[666, 'tree', 5.678, [8, 4, 2]]"
      ]
     },
     "execution_count": 59,
     "metadata": {},
     "output_type": "execute_result"
    }
   ],
   "source": [
    "mix"
   ]
  },
  {
   "cell_type": "code",
   "execution_count": 60,
   "id": "91dcd378",
   "metadata": {},
   "outputs": [],
   "source": [
    "submix=mix[0:3] # creating sublist"
   ]
  },
  {
   "cell_type": "code",
   "execution_count": 61,
   "id": "ebcfd3a8",
   "metadata": {},
   "outputs": [
    {
     "data": {
      "text/plain": [
       "[666, 'tree', 5.678]"
      ]
     },
     "execution_count": 61,
     "metadata": {},
     "output_type": "execute_result"
    }
   ],
   "source": [
    "submix"
   ]
  },
  {
   "cell_type": "code",
   "execution_count": 62,
   "id": "5eac2b02",
   "metadata": {},
   "outputs": [],
   "source": [
    "switch=mix[3] +submix"
   ]
  },
  {
   "cell_type": "code",
   "execution_count": 63,
   "id": "8a17821b",
   "metadata": {},
   "outputs": [
    {
     "data": {
      "text/plain": [
       "[8, 4, 2, 666, 'tree', 5.678]"
      ]
     },
     "execution_count": 63,
     "metadata": {},
     "output_type": "execute_result"
    }
   ],
   "source": [
    "switch"
   ]
  },
  {
   "cell_type": "code",
   "execution_count": 64,
   "id": "9f5b0e32",
   "metadata": {},
   "outputs": [
    {
     "data": {
      "text/plain": [
       "6"
      ]
     },
     "execution_count": 64,
     "metadata": {},
     "output_type": "execute_result"
    }
   ],
   "source": [
    "len(switch)   # length of list is built-in function"
   ]
  },
  {
   "cell_type": "code",
   "execution_count": 65,
   "id": "52fe48c5",
   "metadata": {},
   "outputs": [],
   "source": [
    "resize=[6.45,'SOFIA',3,8.2E6,15,14]"
   ]
  },
  {
   "cell_type": "code",
   "execution_count": 66,
   "id": "4fc45455",
   "metadata": {},
   "outputs": [
    {
     "data": {
      "text/plain": [
       "6"
      ]
     },
     "execution_count": 66,
     "metadata": {},
     "output_type": "execute_result"
    }
   ],
   "source": [
    "len(resize) "
   ]
  },
  {
   "cell_type": "code",
   "execution_count": 67,
   "id": "1dc188c5",
   "metadata": {},
   "outputs": [
    {
     "data": {
      "text/plain": [
       "['SOFIA', 3, 8200000.0]"
      ]
     },
     "execution_count": 67,
     "metadata": {},
     "output_type": "execute_result"
    }
   ],
   "source": [
    "resize[1:4]"
   ]
  },
  {
   "cell_type": "code",
   "execution_count": 68,
   "id": "df9e2844",
   "metadata": {},
   "outputs": [],
   "source": [
    "resize[1:4]=[55]"
   ]
  },
  {
   "cell_type": "code",
   "execution_count": 69,
   "id": "c0059dc7",
   "metadata": {},
   "outputs": [
    {
     "data": {
      "text/plain": [
       "[6.45, 55, 15, 14]"
      ]
     },
     "execution_count": 69,
     "metadata": {},
     "output_type": "execute_result"
    }
   ],
   "source": [
    "resize"
   ]
  },
  {
   "cell_type": "code",
   "execution_count": 70,
   "id": "5e62f108",
   "metadata": {},
   "outputs": [
    {
     "data": {
      "text/plain": [
       "14"
      ]
     },
     "execution_count": 70,
     "metadata": {},
     "output_type": "execute_result"
    }
   ],
   "source": [
    "resize[3]"
   ]
  },
  {
   "cell_type": "code",
   "execution_count": 71,
   "id": "5b26315b",
   "metadata": {},
   "outputs": [],
   "source": [
    "resize[3]=['all','for','one']"
   ]
  },
  {
   "cell_type": "code",
   "execution_count": 72,
   "id": "84fd4beb",
   "metadata": {},
   "outputs": [
    {
     "data": {
      "text/plain": [
       "[6.45, 55, 15, ['all', 'for', 'one']]"
      ]
     },
     "execution_count": 72,
     "metadata": {},
     "output_type": "execute_result"
    }
   ],
   "source": [
    "resize"
   ]
  },
  {
   "cell_type": "code",
   "execution_count": 73,
   "id": "c14b1d2a",
   "metadata": {},
   "outputs": [
    {
     "data": {
      "text/plain": [
       "4"
      ]
     },
     "execution_count": 73,
     "metadata": {},
     "output_type": "execute_result"
    }
   ],
   "source": [
    "len(resize)"
   ]
  },
  {
   "cell_type": "code",
   "execution_count": 74,
   "id": "3e772740",
   "metadata": {},
   "outputs": [
    {
     "ename": "IndexError",
     "evalue": "list assignment index out of range",
     "output_type": "error",
     "traceback": [
      "\u001b[1;31m---------------------------------------------------------------------------\u001b[0m",
      "\u001b[1;31mIndexError\u001b[0m                                Traceback (most recent call last)",
      "Cell \u001b[1;32mIn[74], line 1\u001b[0m\n\u001b[1;32m----> 1\u001b[0m resize[\u001b[38;5;241m4\u001b[39m]\u001b[38;5;241m=\u001b[39m[\u001b[38;5;241m2.87\u001b[39m]\n",
      "\u001b[1;31mIndexError\u001b[0m: list assignment index out of range"
     ]
    }
   ],
   "source": [
    "resize[4]=[2.87]"
   ]
  },
  {
   "cell_type": "code",
   "execution_count": 75,
   "id": "48ce1cfb",
   "metadata": {},
   "outputs": [],
   "source": [
    "temp=resize[0:3]"
   ]
  },
  {
   "cell_type": "code",
   "execution_count": 76,
   "id": "67875001",
   "metadata": {},
   "outputs": [
    {
     "data": {
      "text/plain": [
       "[6.45, 55, 15]"
      ]
     },
     "execution_count": 76,
     "metadata": {},
     "output_type": "execute_result"
    }
   ],
   "source": [
    "temp"
   ]
  },
  {
   "cell_type": "code",
   "execution_count": 77,
   "id": "0937c5e1",
   "metadata": {},
   "outputs": [],
   "source": [
    "resize = resize + [2.87]"
   ]
  },
  {
   "cell_type": "code",
   "execution_count": 78,
   "id": "701dd1c3",
   "metadata": {},
   "outputs": [
    {
     "data": {
      "text/plain": [
       "[6.45, 55, 15, ['all', 'for', 'one'], 2.87]"
      ]
     },
     "execution_count": 78,
     "metadata": {},
     "output_type": "execute_result"
    }
   ],
   "source": [
    "resize"
   ]
  },
  {
   "cell_type": "code",
   "execution_count": 79,
   "id": "120796b9",
   "metadata": {},
   "outputs": [
    {
     "data": {
      "text/plain": [
       "5"
      ]
     },
     "execution_count": 79,
     "metadata": {},
     "output_type": "execute_result"
    }
   ],
   "source": [
    "len(resize)"
   ]
  },
  {
   "cell_type": "markdown",
   "id": "75954a52",
   "metadata": {},
   "source": []
  },
  {
   "cell_type": "code",
   "execution_count": 80,
   "id": "42a24218",
   "metadata": {},
   "outputs": [],
   "source": [
    "del resize[3]  #delete item"
   ]
  },
  {
   "cell_type": "code",
   "execution_count": 81,
   "id": "8b07cc6a",
   "metadata": {},
   "outputs": [
    {
     "data": {
      "text/plain": [
       "[6.45, 55, 15, 2.87]"
      ]
     },
     "execution_count": 81,
     "metadata": {},
     "output_type": "execute_result"
    }
   ],
   "source": [
    "resize"
   ]
  },
  {
   "cell_type": "code",
   "execution_count": 82,
   "id": "3212e8ad",
   "metadata": {},
   "outputs": [
    {
     "data": {
      "text/plain": [
       "4"
      ]
     },
     "execution_count": 82,
     "metadata": {},
     "output_type": "execute_result"
    }
   ],
   "source": [
    "len(resize) #shorter now"
   ]
  },
  {
   "cell_type": "code",
   "execution_count": 83,
   "id": "88ee49e1",
   "metadata": {},
   "outputs": [],
   "source": [
    "del resize[1:3] #delete a sublist"
   ]
  },
  {
   "cell_type": "code",
   "execution_count": 84,
   "id": "ea706915",
   "metadata": {},
   "outputs": [
    {
     "data": {
      "text/plain": [
       "[6.45, 2.87]"
      ]
     },
     "execution_count": 84,
     "metadata": {},
     "output_type": "execute_result"
    }
   ],
   "source": [
    "resize"
   ]
  },
  {
   "cell_type": "code",
   "execution_count": 85,
   "id": "5204dc48",
   "metadata": {},
   "outputs": [
    {
     "data": {
      "text/plain": [
       "2"
      ]
     },
     "execution_count": 85,
     "metadata": {},
     "output_type": "execute_result"
    }
   ],
   "source": [
    "len(resize) #shorter now"
   ]
  },
  {
   "cell_type": "code",
   "execution_count": 86,
   "id": "c72da025",
   "metadata": {},
   "outputs": [
    {
     "data": {
      "text/plain": [
       "[1, 2, 8, 9]"
      ]
     },
     "execution_count": 86,
     "metadata": {},
     "output_type": "execute_result"
    }
   ],
   "source": [
    "sorted([1,9,8,2])"
   ]
  },
  {
   "cell_type": "code",
   "execution_count": 87,
   "id": "16ebdec0",
   "metadata": {},
   "outputs": [],
   "source": [
    "x=[1,9,8,2]"
   ]
  },
  {
   "cell_type": "code",
   "execution_count": 88,
   "id": "f69bca71",
   "metadata": {},
   "outputs": [],
   "source": [
    "x.sort()"
   ]
  },
  {
   "cell_type": "code",
   "execution_count": 89,
   "id": "c9811e0d",
   "metadata": {},
   "outputs": [
    {
     "data": {
      "text/plain": [
       "[1, 2, 8, 9]"
      ]
     },
     "execution_count": 89,
     "metadata": {},
     "output_type": "execute_result"
    }
   ],
   "source": [
    "x"
   ]
  },
  {
   "cell_type": "code",
   "execution_count": 90,
   "id": "eba98ab1",
   "metadata": {},
   "outputs": [],
   "source": [
    "x=['a',10,'c']"
   ]
  },
  {
   "cell_type": "code",
   "execution_count": 91,
   "id": "a0e9479c",
   "metadata": {},
   "outputs": [
    {
     "data": {
      "text/plain": [
       "10"
      ]
     },
     "execution_count": 91,
     "metadata": {},
     "output_type": "execute_result"
    }
   ],
   "source": [
    "x[1] #return 10"
   ]
  },
  {
   "cell_type": "code",
   "execution_count": 92,
   "id": "d3d36784",
   "metadata": {},
   "outputs": [],
   "source": [
    "x.remove(10)"
   ]
  },
  {
   "cell_type": "code",
   "execution_count": 93,
   "id": "47495518",
   "metadata": {},
   "outputs": [
    {
     "data": {
      "text/plain": [
       "'c'"
      ]
     },
     "execution_count": 93,
     "metadata": {},
     "output_type": "execute_result"
    }
   ],
   "source": [
    "x[1] #next element means you get c \n",
    "#in list when you delete one element then the next elemnt take it place "
   ]
  },
  {
   "cell_type": "code",
   "execution_count": 94,
   "id": "5d1e7abd",
   "metadata": {},
   "outputs": [],
   "source": [
    "x.insert(0,1)"
   ]
  },
  {
   "cell_type": "code",
   "execution_count": 95,
   "id": "541a09c7",
   "metadata": {},
   "outputs": [
    {
     "data": {
      "text/plain": [
       "[1, 'a', 'c']"
      ]
     },
     "execution_count": 95,
     "metadata": {},
     "output_type": "execute_result"
    }
   ],
   "source": [
    "x"
   ]
  },
  {
   "cell_type": "code",
   "execution_count": 96,
   "id": "0cccfcb3",
   "metadata": {},
   "outputs": [],
   "source": [
    "x.insert(1,14)"
   ]
  },
  {
   "cell_type": "code",
   "execution_count": 97,
   "id": "7dc5a62d",
   "metadata": {},
   "outputs": [
    {
     "data": {
      "text/plain": [
       "[1, 14, 'a', 'c']"
      ]
     },
     "execution_count": 97,
     "metadata": {},
     "output_type": "execute_result"
    }
   ],
   "source": [
    "x"
   ]
  },
  {
   "cell_type": "markdown",
   "id": "c9f69cf7",
   "metadata": {},
   "source": [
    "Seem harmless? \n",
    "\n",
    "Sure, for small lists, but not so for large lists. This is because\n",
    "to maintain the invariant the list has to scoot (i.e., memory copy) the remaining\n",
    "elements over to the right to accommodate the new element added at the beginning.\n",
    "Over a large list with millions of elements and in a loop, this can take a substantial\n",
    "amount of time. This is why the default append() and pop() list methods work\n",
    "at the tail end of the list, where there is no need to scoot items to the right."
   ]
  },
  {
   "cell_type": "code",
   "execution_count": 98,
   "id": "5fae2a83",
   "metadata": {},
   "outputs": [],
   "source": [
    "pet='dog','cat','lion'"
   ]
  },
  {
   "cell_type": "code",
   "execution_count": 99,
   "id": "5d270285",
   "metadata": {},
   "outputs": [
    {
     "data": {
      "text/plain": [
       "('dog', 'cat', 'lion')"
      ]
     },
     "execution_count": 99,
     "metadata": {},
     "output_type": "execute_result"
    }
   ],
   "source": [
    "pet\n"
   ]
  },
  {
   "cell_type": "code",
   "execution_count": 100,
   "id": "ab204939",
   "metadata": {},
   "outputs": [
    {
     "data": {
      "text/plain": [
       "tuple"
      ]
     },
     "execution_count": 100,
     "metadata": {},
     "output_type": "execute_result"
    }
   ],
   "source": [
    "type(pet)"
   ]
  },
  {
   "cell_type": "code",
   "execution_count": 101,
   "id": "0744121a",
   "metadata": {},
   "outputs": [
    {
     "data": {
      "text/plain": [
       "'dog'"
      ]
     },
     "execution_count": 101,
     "metadata": {},
     "output_type": "execute_result"
    }
   ],
   "source": [
    "pet[0]"
   ]
  },
  {
   "cell_type": "code",
   "execution_count": 102,
   "id": "a4c7f9ee",
   "metadata": {},
   "outputs": [
    {
     "ename": "TypeError",
     "evalue": "'tuple' object does not support item assignment",
     "output_type": "error",
     "traceback": [
      "\u001b[1;31m---------------------------------------------------------------------------\u001b[0m",
      "\u001b[1;31mTypeError\u001b[0m                                 Traceback (most recent call last)",
      "Cell \u001b[1;32mIn[102], line 1\u001b[0m\n\u001b[1;32m----> 1\u001b[0m pet[\u001b[38;5;241m0\u001b[39m]\u001b[38;5;241m=\u001b[39m\u001b[38;5;124m'\u001b[39m\u001b[38;5;124mcow\u001b[39m\u001b[38;5;124m'\u001b[39m\n",
      "\u001b[1;31mTypeError\u001b[0m: 'tuple' object does not support item assignment"
     ]
    }
   ],
   "source": [
    "pet[0]='cow'"
   ]
  },
  {
   "cell_type": "markdown",
   "id": "1046f708",
   "metadata": {},
   "source": [
    "**you can see this difference between tuple and list"
   ]
  },
  {
   "cell_type": "markdown",
   "id": "3559fd24",
   "metadata": {},
   "source": [
    "**unpacking is sometimes called de-structuring, or splat,\n",
    "also tuples are immutable means it can not be modified change its value after intialization\n",
    "whereas \n",
    "list is \n",
    "Mutabil\n",
    "Dictionaries are mutable, meaning their contents can be modified after creation.\n",
    "Elements can be added, modified, or removed dynamically."
   ]
  },
  {
   "cell_type": "code",
   "execution_count": 103,
   "id": "1fcbfff5",
   "metadata": {},
   "outputs": [
    {
     "data": {
      "text/plain": [
       "['dog', 'cat', 'lion']"
      ]
     },
     "execution_count": 103,
     "metadata": {},
     "output_type": "execute_result"
    }
   ],
   "source": [
    "pets=['dog','cat','lion']\n",
    "pets"
   ]
  },
  {
   "cell_type": "code",
   "execution_count": 104,
   "id": "2a2dda4a",
   "metadata": {},
   "outputs": [
    {
     "data": {
      "text/plain": [
       "list"
      ]
     },
     "execution_count": 104,
     "metadata": {},
     "output_type": "execute_result"
    }
   ],
   "source": [
    "type(pets)"
   ]
  },
  {
   "cell_type": "code",
   "execution_count": 105,
   "id": "c17231ea",
   "metadata": {},
   "outputs": [
    {
     "data": {
      "text/plain": [
       "'dog'"
      ]
     },
     "execution_count": 105,
     "metadata": {},
     "output_type": "execute_result"
    }
   ],
   "source": [
    "pets[0]"
   ]
  },
  {
   "cell_type": "code",
   "execution_count": 106,
   "id": "e2ef4dac",
   "metadata": {},
   "outputs": [],
   "source": [
    "pets[0]='cow'"
   ]
  },
  {
   "cell_type": "code",
   "execution_count": 107,
   "id": "4bd6a12c",
   "metadata": {},
   "outputs": [
    {
     "data": {
      "text/plain": [
       "['cow', 'cat', 'lion']"
      ]
     },
     "execution_count": 107,
     "metadata": {},
     "output_type": "execute_result"
    }
   ],
   "source": [
    "pets"
   ]
  },
  {
   "cell_type": "code",
   "execution_count": 108,
   "id": "347fcbf2",
   "metadata": {},
   "outputs": [
    {
     "ename": "SyntaxError",
     "evalue": "invalid syntax (1287568967.py, line 1)",
     "output_type": "error",
     "traceback": [
      "\u001b[1;36m  Cell \u001b[1;32mIn[108], line 1\u001b[1;36m\u001b[0m\n\u001b[1;33m    there is two type of code which shows two type of things one is tupple and another is list you can see the difference between them\u001b[0m\n\u001b[1;37m                 ^\u001b[0m\n\u001b[1;31mSyntaxError\u001b[0m\u001b[1;31m:\u001b[0m invalid syntax\n"
     ]
    }
   ],
   "source": [
    "there is two type of code which shows two type of things one is tupple and another is list you can see the difference between them "
   ]
  },
  {
   "cell_type": "markdown",
   "id": "2a223cbb",
   "metadata": {},
   "source": [
    "**Dictonaries**"
   ]
  },
  {
   "cell_type": "code",
   "execution_count": 109,
   "id": "671f2529",
   "metadata": {},
   "outputs": [],
   "source": [
    "x={'key':'value'}"
   ]
  },
  {
   "cell_type": "code",
   "execution_count": 110,
   "id": "bdc249dc",
   "metadata": {},
   "outputs": [
    {
     "data": {
      "text/plain": [
       "'value'"
      ]
     },
     "execution_count": 110,
     "metadata": {},
     "output_type": "execute_result"
    }
   ],
   "source": [
    "x['key']"
   ]
  },
  {
   "cell_type": "code",
   "execution_count": 111,
   "id": "43202aa0",
   "metadata": {},
   "outputs": [],
   "source": [
    "x={'play':'Shakespeare',\n",
    "   'actor':'Wayne',\n",
    "   'direct':'kubrick',\n",
    "   'author':'Hemmingway',\n",
    "   'bio':'Watson'}"
   ]
  },
  {
   "cell_type": "code",
   "execution_count": 112,
   "id": "20db3738",
   "metadata": {},
   "outputs": [
    {
     "data": {
      "text/plain": [
       "5"
      ]
     },
     "execution_count": 112,
     "metadata": {},
     "output_type": "execute_result"
    }
   ],
   "source": [
    "len(x)  # number of key/value pairs"
   ]
  },
  {
   "cell_type": "code",
   "execution_count": 113,
   "id": "87c3f12f",
   "metadata": {},
   "outputs": [],
   "source": [
    "x['press']='F.D.R.' #assignment to key 'press'"
   ]
  },
  {
   "cell_type": "code",
   "execution_count": 114,
   "id": "5c155d9e",
   "metadata": {},
   "outputs": [
    {
     "data": {
      "text/plain": [
       "{'play': 'Shakespeare',\n",
       " 'actor': 'Wayne',\n",
       " 'direct': 'kubrick',\n",
       " 'author': 'Hemmingway',\n",
       " 'bio': 'Watson',\n",
       " 'press': 'F.D.R.'}"
      ]
     },
     "execution_count": 114,
     "metadata": {},
     "output_type": "execute_result"
    }
   ],
   "source": [
    "x"
   ]
  },
  {
   "cell_type": "code",
   "execution_count": 115,
   "id": "e83ea778",
   "metadata": {},
   "outputs": [
    {
     "data": {
      "text/plain": [
       "{'play': 'Shakespeare',\n",
       " 'actor': 'Wayne',\n",
       " 'direct': 'kubrick',\n",
       " 'author': 'Hemmingway',\n",
       " 'bio': 'Darwin',\n",
       " 'press': 'F.D.R.'}"
      ]
     },
     "execution_count": 115,
     "metadata": {},
     "output_type": "execute_result"
    }
   ],
   "source": [
    "x['bio']='Darwin' #reassignment for 'bio' key\n",
    "x"
   ]
  },
  {
   "cell_type": "code",
   "execution_count": 116,
   "id": "f6edff5c",
   "metadata": {},
   "outputs": [],
   "source": [
    "del x['actor'] #delete key"
   ]
  },
  {
   "cell_type": "code",
   "execution_count": 117,
   "id": "245dfc84",
   "metadata": {},
   "outputs": [
    {
     "data": {
      "text/plain": [
       "{'play': 'Shakespeare',\n",
       " 'direct': 'kubrick',\n",
       " 'author': 'Hemmingway',\n",
       " 'bio': 'Darwin',\n",
       " 'press': 'F.D.R.'}"
      ]
     },
     "execution_count": 117,
     "metadata": {},
     "output_type": "execute_result"
    }
   ],
   "source": [
    "x\n"
   ]
  },
  {
   "cell_type": "code",
   "execution_count": 118,
   "id": "548481bb",
   "metadata": {},
   "outputs": [],
   "source": [
    "x=dict(key='value',another_key=1.333,\n",
    "  more_key=[1,3,4,'one'])"
   ]
  },
  {
   "cell_type": "code",
   "execution_count": 119,
   "id": "89211c09",
   "metadata": {},
   "outputs": [
    {
     "data": {
      "text/plain": [
       "{'key': 'value', 'another_key': 1.333, 'more_key': [1, 3, 4, 'one']}"
      ]
     },
     "execution_count": 119,
     "metadata": {},
     "output_type": "execute_result"
    }
   ],
   "source": [
    "x"
   ]
  },
  {
   "cell_type": "code",
   "execution_count": 120,
   "id": "bdf6d958",
   "metadata": {},
   "outputs": [],
   "source": [
    "x={(1,3):'value'}  #any immutable type can be a valid key"
   ]
  },
  {
   "cell_type": "code",
   "execution_count": 121,
   "id": "03463733",
   "metadata": {},
   "outputs": [
    {
     "data": {
      "text/plain": [
       "{(1, 3): 'value'}"
      ]
     },
     "execution_count": 121,
     "metadata": {},
     "output_type": "execute_result"
    }
   ],
   "source": [
    "x"
   ]
  },
  {
   "cell_type": "code",
   "execution_count": 122,
   "id": "c7f6da70",
   "metadata": {},
   "outputs": [],
   "source": [
    "x[(1,3)]='immutable can be keys'"
   ]
  },
  {
   "cell_type": "code",
   "execution_count": 123,
   "id": "4e2055cc",
   "metadata": {},
   "outputs": [
    {
     "data": {
      "text/plain": [
       "{(1, 3): 'immutable can be keys'}"
      ]
     },
     "execution_count": 123,
     "metadata": {},
     "output_type": "execute_result"
    }
   ],
   "source": [
    "x"
   ]
  },
  {
   "cell_type": "markdown",
   "id": "5eca25f9",
   "metadata": {},
   "source": [
    "**Unions of Dictionaries**"
   ]
  },
  {
   "cell_type": "code",
   "execution_count": 124,
   "id": "2e126e90",
   "metadata": {},
   "outputs": [
    {
     "data": {
      "text/plain": [
       "{'a': 1, 'b': 2, 'c': 3, 'A': 1, 'B': 2, 'C': 3}"
      ]
     },
     "execution_count": 124,
     "metadata": {},
     "output_type": "execute_result"
    }
   ],
   "source": [
    "d1={'a':1,'b':2,'c':3}\n",
    "d2={'A':1,'B':2,'C':3}\n",
    "dict(d1,**d2)"
   ]
  },
  {
   "cell_type": "code",
   "execution_count": 125,
   "id": "b0900f53",
   "metadata": {},
   "outputs": [
    {
     "data": {
      "text/plain": [
       "{'a': 1, 'b': 2, 'c': 3, 'A': 1, 'B': 2, 'C': 3}"
      ]
     },
     "execution_count": 125,
     "metadata": {},
     "output_type": "execute_result"
    }
   ],
   "source": [
    "{**d1,**d2} #without dict function"
   ]
  },
  {
   "cell_type": "markdown",
   "id": "200e2512",
   "metadata": {},
   "source": [
    "**Recall that lists are ordered data structures in the sense that\n",
    "when elements are indexed, the next element can be found by a relative offset from\n",
    "the prior one.\n",
    "\n",
    "**. This means that these elements are laid out contiguously in memory\n",
    "\n",
    "**Dictionaries do not have this property because they will put values wherever they\n",
    "can find memory, contiguous or not. This is because dictionaries do not rely upon\n",
    "relative offsets for indexing, they rely instead on a hash function.\n",
    "\n",
    "consider the following"
   ]
  },
  {
   "cell_type": "code",
   "execution_count": 126,
   "id": "bbdc188b",
   "metadata": {},
   "outputs": [
    {
     "data": {
      "text/plain": [
       "'one'"
      ]
     },
     "execution_count": 126,
     "metadata": {},
     "output_type": "execute_result"
    }
   ],
   "source": [
    "x={0:'zero',1:'one'}\n",
    "y=['zero','one']\n",
    "x[1]  #dictioneries\n"
   ]
  },
  {
   "cell_type": "code",
   "execution_count": 127,
   "id": "dc155ad8",
   "metadata": {},
   "outputs": [
    {
     "data": {
      "text/plain": [
       "'one'"
      ]
     },
     "execution_count": 127,
     "metadata": {},
     "output_type": "execute_result"
    }
   ],
   "source": [
    "y[1]  #list"
   ]
  },
  {
   "cell_type": "markdown",
   "id": "67797c92",
   "metadata": {},
   "source": [
    "**both give the same value \n",
    "whe you assign a key the dictionery computes a hash function and the stores the value at a memory location based upon the hash function.**"
   ]
  },
  {
   "cell_type": "markdown",
   "id": "96964276",
   "metadata": {},
   "source": [
    "**what is a hash function?\n",
    "A hash function takes an input and is designed to return ,with very high probability,a value that is unique to the key.**\n",
    "\n",
    "**also **\n",
    "  \n",
    "  \n",
    "**two keys cannot have the same hash or equivalently, cannot store different values in the same memory location**"
   ]
  },
  {
   "cell_type": "code",
   "execution_count": 128,
   "id": "67e5c1f0",
   "metadata": {},
   "outputs": [
    {
     "data": {
      "text/plain": [
       "813815372041410674"
      ]
     },
     "execution_count": 128,
     "metadata": {},
     "output_type": "execute_result"
    }
   ],
   "source": [
    "hash('12345')"
   ]
  },
  {
   "cell_type": "code",
   "execution_count": 129,
   "id": "b713b41e",
   "metadata": {},
   "outputs": [
    {
     "data": {
      "text/plain": [
       "-5765287607584320249"
      ]
     },
     "execution_count": 129,
     "metadata": {},
     "output_type": "execute_result"
    }
   ],
   "source": [
    "hash('12346')"
   ]
  },
  {
   "cell_type": "markdown",
   "id": "2760344b",
   "metadata": {},
   "source": [
    "memory will be finite \n",
    "it could happen that the hash function produces values that are the same \n",
    "this is known as a hash collision and python implements fallback algorith to handle this case."
   ]
  },
  {
   "cell_type": "markdown",
   "id": "6abffb45",
   "metadata": {},
   "source": [
    "inserting/removing elements from the middle of a list cause extra memory movement as the list maintain its invarient but this not happen for dictioneries. \n",
    "\n",
    "This means that elements cand be added or removed without any extra memory overhead beyond  the cost of computing the hash function\n",
    "(i.e., constant-time lookup)"
   ]
  },
  {
   "cell_type": "markdown",
   "id": "bf8c5bd6",
   "metadata": {},
   "source": [
    "dictionaries are ideal for codes that do not need\n",
    "ordering. Note that since Python 3.6+, dictionaries are ordered in the sense of the\n",
    "order in which items were inserted to the dictionary. In Python 2.7, this was known\n",
    "as collections.OrderedDict but has since become the default in Python\n",
    "3.6+"
   ]
  },
  {
   "cell_type": "markdown",
   "id": "174ac09d",
   "metadata": {},
   "source": [
    "we can use integers and strings for keys but any immutable type can also be used  as keys"
   ]
  },
  {
   "cell_type": "code",
   "execution_count": 130,
   "id": "9668d027",
   "metadata": {},
   "outputs": [],
   "source": [
    "#for example\n",
    "x={(1,3):10,(3,4,5,8):10}"
   ]
  },
  {
   "cell_type": "code",
   "execution_count": 131,
   "id": "8a62e629",
   "metadata": {},
   "outputs": [
    {
     "data": {
      "text/plain": [
       "{(1, 3): 10, (3, 4, 5, 8): 10}"
      ]
     },
     "execution_count": 131,
     "metadata": {},
     "output_type": "execute_result"
    }
   ],
   "source": [
    "x\n"
   ]
  },
  {
   "cell_type": "code",
   "execution_count": 132,
   "id": "01dda917",
   "metadata": {},
   "outputs": [],
   "source": [
    "a=[1,2]"
   ]
  },
  {
   "cell_type": "code",
   "execution_count": 133,
   "id": "8c160cc5",
   "metadata": {},
   "outputs": [
    {
     "ename": "TypeError",
     "evalue": "unhashable type: 'list'",
     "output_type": "error",
     "traceback": [
      "\u001b[1;31m---------------------------------------------------------------------------\u001b[0m",
      "\u001b[1;31mTypeError\u001b[0m                                 Traceback (most recent call last)",
      "Cell \u001b[1;32mIn[133], line 1\u001b[0m\n\u001b[1;32m----> 1\u001b[0m x[a]\u001b[38;5;241m=\u001b[39m\u001b[38;5;241m10\u001b[39m\n",
      "\u001b[1;31mTypeError\u001b[0m: unhashable type: 'list'"
     ]
    }
   ],
   "source": [
    "x[a]=10"
   ]
  },
  {
   "cell_type": "markdown",
   "id": "fa276922",
   "metadata": {},
   "source": [
    "read the below code for more understanding why it happens "
   ]
  },
  {
   "cell_type": "code",
   "execution_count": 134,
   "id": "f0973d37",
   "metadata": {},
   "outputs": [],
   "source": [
    "a=[1,2]"
   ]
  },
  {
   "cell_type": "code",
   "execution_count": 135,
   "id": "32c3a6de",
   "metadata": {},
   "outputs": [],
   "source": [
    "a[0]=3"
   ]
  },
  {
   "cell_type": "code",
   "execution_count": 136,
   "id": "bcccf151",
   "metadata": {},
   "outputs": [
    {
     "data": {
      "text/plain": [
       "[3, 2]"
      ]
     },
     "execution_count": 136,
     "metadata": {},
     "output_type": "execute_result"
    }
   ],
   "source": [
    "a"
   ]
  },
  {
   "cell_type": "code",
   "execution_count": 137,
   "id": "be1b52cf",
   "metadata": {},
   "outputs": [],
   "source": [
    "a=(1,2)"
   ]
  },
  {
   "cell_type": "code",
   "execution_count": 138,
   "id": "ff14d2cb",
   "metadata": {},
   "outputs": [
    {
     "ename": "TypeError",
     "evalue": "'tuple' object does not support item assignment",
     "output_type": "error",
     "traceback": [
      "\u001b[1;31m---------------------------------------------------------------------------\u001b[0m",
      "\u001b[1;31mTypeError\u001b[0m                                 Traceback (most recent call last)",
      "Cell \u001b[1;32mIn[138], line 1\u001b[0m\n\u001b[1;32m----> 1\u001b[0m a[\u001b[38;5;241m0\u001b[39m]\u001b[38;5;241m=\u001b[39m\u001b[38;5;241m3\u001b[39m\n",
      "\u001b[1;31mTypeError\u001b[0m: 'tuple' object does not support item assignment"
     ]
    }
   ],
   "source": [
    "a[0]=3"
   ]
  },
  {
   "cell_type": "markdown",
   "id": "f62f4ccf",
   "metadata": {},
   "source": [
    "**let initially hash(a)->132334\n",
    "but when the type is immutable you can change its value as i do in above  code\n",
    "then , the hash function output would be different from 132334 and\n",
    "thus the dictionary could not retrieve the corresponding value, which would violate\n",
    "its invariant**\n"
   ]
  },
  {
   "cell_type": "markdown",
   "id": "d3b28f14",
   "metadata": {},
   "source": [
    "**Sets**\n",
    "\n",
    "\n",
    "**Python provides mathematical sets and corresponding operations with the\n",
    "set() data structure, which are basically dictionaries without values.**"
   ]
  },
  {
   "cell_type": "code",
   "execution_count": 139,
   "id": "ac7df93d",
   "metadata": {},
   "outputs": [
    {
     "data": {
      "text/plain": [
       "{1, 2, 11}"
      ]
     },
     "execution_count": 139,
     "metadata": {},
     "output_type": "execute_result"
    }
   ],
   "source": [
    "set([1,2,11,1])  #union-izes elements"
   ]
  },
  {
   "cell_type": "code",
   "execution_count": 140,
   "id": "9ea1c1a6",
   "metadata": {},
   "outputs": [
    {
     "data": {
      "text/plain": [
       "{2, 3}"
      ]
     },
     "execution_count": 140,
     "metadata": {},
     "output_type": "execute_result"
    }
   ],
   "source": [
    "set([1,2,3]) & set ([2,3,4]) #bitwise intersection"
   ]
  },
  {
   "cell_type": "code",
   "execution_count": 141,
   "id": "291a0573",
   "metadata": {},
   "outputs": [
    {
     "data": {
      "text/plain": [
       "{2, 3, 4}"
      ]
     },
     "execution_count": 141,
     "metadata": {},
     "output_type": "execute_result"
    }
   ],
   "source": [
    "set([1,2,3]) and set([2,3,4])"
   ]
  },
  {
   "cell_type": "code",
   "execution_count": 142,
   "id": "cd36bd19",
   "metadata": {},
   "outputs": [
    {
     "data": {
      "text/plain": [
       "{1, 4}"
      ]
     },
     "execution_count": 142,
     "metadata": {},
     "output_type": "execute_result"
    }
   ],
   "source": [
    "set([1,2,3]) ^ set([2,3,4])  #bitwise exclusive OR"
   ]
  },
  {
   "cell_type": "code",
   "execution_count": 143,
   "id": "98361066",
   "metadata": {},
   "outputs": [
    {
     "data": {
      "text/plain": [
       "{1, 2, 3, 4}"
      ]
     },
     "execution_count": 143,
     "metadata": {},
     "output_type": "execute_result"
    }
   ],
   "source": [
    "set([1,2,3]) | set([2,3,4])"
   ]
  },
  {
   "cell_type": "code",
   "execution_count": 144,
   "id": "6e0a7828",
   "metadata": {},
   "outputs": [
    {
     "ename": "TypeError",
     "evalue": "unhashable type: 'list'",
     "output_type": "error",
     "traceback": [
      "\u001b[1;31m---------------------------------------------------------------------------\u001b[0m",
      "\u001b[1;31mTypeError\u001b[0m                                 Traceback (most recent call last)",
      "Cell \u001b[1;32mIn[144], line 1\u001b[0m\n\u001b[1;32m----> 1\u001b[0m \u001b[38;5;28mset\u001b[39m([[\u001b[38;5;241m1\u001b[39m,\u001b[38;5;241m2\u001b[39m,\u001b[38;5;241m3\u001b[39m],[\u001b[38;5;241m2\u001b[39m,\u001b[38;5;241m3\u001b[39m,\u001b[38;5;241m4\u001b[39m]])\n",
      "\u001b[1;31mTypeError\u001b[0m: unhashable type: 'list'"
     ]
    }
   ],
   "source": [
    "set([[1,2,3],[2,3,4]])    # no sets of lists"
   ]
  },
  {
   "cell_type": "markdown",
   "id": "59cfbe69",
   "metadata": {},
   "source": [
    "Note that since Python 3.6+, keys can be used as set objects, as in the following"
   ]
  },
  {
   "cell_type": "code",
   "execution_count": 145,
   "id": "cfc607f5",
   "metadata": {},
   "outputs": [
    {
     "data": {
      "text/plain": [
       "{'one', 'two'}"
      ]
     },
     "execution_count": 145,
     "metadata": {},
     "output_type": "execute_result"
    }
   ],
   "source": [
    "d=dict(one=1,two=2)\n",
    "{\"one\",\"two\"} &d.keys()    #intersection"
   ]
  },
  {
   "cell_type": "code",
   "execution_count": 146,
   "id": "fce79069",
   "metadata": {},
   "outputs": [
    {
     "data": {
      "text/plain": [
       "{'Three', 'one', 'two'}"
      ]
     },
     "execution_count": 146,
     "metadata": {},
     "output_type": "execute_result"
    }
   ],
   "source": [
    "{'one','Three'} | d.keys()  #union"
   ]
  },
  {
   "cell_type": "markdown",
   "id": "58d71b47",
   "metadata": {},
   "source": [
    "This also works for dictionary items if the values are hashable,"
   ]
  },
  {
   "cell_type": "code",
   "execution_count": 147,
   "id": "929fcad8",
   "metadata": {},
   "outputs": [
    {
     "data": {
      "text/plain": [
       "{('one', 'ball'), ('two', 'play'), 'ball', 'play'}"
      ]
     },
     "execution_count": 147,
     "metadata": {},
     "output_type": "execute_result"
    }
   ],
   "source": [
    "d=dict(one='ball',two='play')\n",
    "{'ball','play'} | d.items()\n"
   ]
  },
  {
   "cell_type": "code",
   "execution_count": 148,
   "id": "fafa0854",
   "metadata": {},
   "outputs": [],
   "source": [
    "#once you create a set you can add individual elemens or remove them as follows:,\n",
    "s={'one',1,3,'10'}"
   ]
  },
  {
   "cell_type": "code",
   "execution_count": 149,
   "id": "23652738",
   "metadata": {},
   "outputs": [
    {
     "data": {
      "text/plain": [
       "{1, '10', '11', 3, 'one'}"
      ]
     },
     "execution_count": 149,
     "metadata": {},
     "output_type": "execute_result"
    }
   ],
   "source": [
    "s.add(\"11\")\n",
    "s"
   ]
  },
  {
   "cell_type": "code",
   "execution_count": 150,
   "id": "3c69d984",
   "metadata": {},
   "outputs": [],
   "source": [
    "s.discard(3)"
   ]
  },
  {
   "cell_type": "code",
   "execution_count": 151,
   "id": "b4d8e3db",
   "metadata": {},
   "outputs": [
    {
     "data": {
      "text/plain": [
       "{1, '10', '11', 'one'}"
      ]
     },
     "execution_count": 151,
     "metadata": {},
     "output_type": "execute_result"
    }
   ],
   "source": [
    "s"
   ]
  },
  {
   "cell_type": "code",
   "execution_count": 152,
   "id": "bfc90688",
   "metadata": {},
   "outputs": [
    {
     "ename": "TypeError",
     "evalue": "'set' object is not subscriptable",
     "output_type": "error",
     "traceback": [
      "\u001b[1;31m---------------------------------------------------------------------------\u001b[0m",
      "\u001b[1;31mTypeError\u001b[0m                                 Traceback (most recent call last)",
      "Cell \u001b[1;32mIn[152], line 2\u001b[0m\n\u001b[0;32m      1\u001b[0m \u001b[38;5;66;03m#Remember sets are not ordered and you cannot directly index any of the constituent items.\u001b[39;00m\n\u001b[1;32m----> 2\u001b[0m s[\u001b[38;5;241m0\u001b[39m]\n",
      "\u001b[1;31mTypeError\u001b[0m: 'set' object is not subscriptable"
     ]
    }
   ],
   "source": [
    "#Remember sets are not ordered and you cannot directly index any of the constituent items.\n",
    "s[0] "
   ]
  },
  {
   "cell_type": "code",
   "execution_count": 153,
   "id": "b545aea8",
   "metadata": {},
   "outputs": [
    {
     "data": {
      "text/plain": [
       "True"
      ]
     },
     "execution_count": 153,
     "metadata": {},
     "output_type": "execute_result"
    }
   ],
   "source": [
    "#the subset() method is for a proper subset not a partial subset\n",
    "#for example\n",
    "a={1,3,4,5}\n",
    "b={1,3,4,5,6}\n",
    "a.issubset(b)"
   ]
  },
  {
   "cell_type": "code",
   "execution_count": 154,
   "id": "7243d8b5",
   "metadata": {},
   "outputs": [
    {
     "data": {
      "text/plain": [
       "False"
      ]
     },
     "execution_count": 154,
     "metadata": {},
     "output_type": "execute_result"
    }
   ],
   "source": [
    "a.add(1000)\n",
    "a.issubset(b)"
   ]
  },
  {
   "cell_type": "code",
   "execution_count": 155,
   "id": "28c37022",
   "metadata": {},
   "outputs": [
    {
     "data": {
      "text/plain": [
       "True"
      ]
     },
     "execution_count": 155,
     "metadata": {},
     "output_type": "execute_result"
    }
   ],
   "source": [
    "#And likewise for issuperset. Sets are optimal for fast lookups in Python, as in\n",
    "#the following,\n",
    "\n",
    "a={1,3,4,5,6}\n",
    "1 in a"
   ]
  },
  {
   "cell_type": "code",
   "execution_count": 156,
   "id": "8c35ed8f",
   "metadata": {},
   "outputs": [
    {
     "data": {
      "text/plain": [
       "False"
      ]
     },
     "execution_count": 156,
     "metadata": {},
     "output_type": "execute_result"
    }
   ],
   "source": [
    "11 in a\n"
   ]
  },
  {
   "cell_type": "markdown",
   "id": "70abb212",
   "metadata": {},
   "source": [
    "even for large sets it works fast"
   ]
  },
  {
   "cell_type": "markdown",
   "id": "348159aa",
   "metadata": {},
   "source": [
    "**loops and condititonals**"
   ]
  },
  {
   "cell_type": "markdown",
   "id": "b5a82b47",
   "metadata": {},
   "source": [
    "there are two primary looping constructs in python: The for loop and the while loop"
   ]
  },
  {
   "cell_type": "code",
   "execution_count": 157,
   "id": "c01ca3f9",
   "metadata": {},
   "outputs": [
    {
     "name": "stdout",
     "output_type": "stream",
     "text": [
      "0\n",
      "1\n",
      "2\n"
     ]
    }
   ],
   "source": [
    "for i in range(3):\n",
    "    print(i)"
   ]
  },
  {
   "cell_type": "markdown",
   "id": "5aa324c2",
   "metadata": {},
   "source": [
    "**identation problem in python**\n",
    "\n",
    "\n",
    "\n",
    "The colon character at the end. This is your hint that the next line should be\n",
    "indented.\n",
    "In Python, blocks are denoted by whitespace indentation **(four spaces\n",
    "is recommended)** which makes the code more readable anyway."
   ]
  },
  {
   "cell_type": "code",
   "execution_count": 158,
   "id": "a215aa6a",
   "metadata": {},
   "outputs": [
    {
     "name": "stdout",
     "output_type": "stream",
     "text": [
      "no break here !\n"
     ]
    }
   ],
   "source": [
    "for i in [7]:\n",
    "    if i>20:\n",
    "        break #won't happen\n",
    "else :\n",
    "    print('no break here !')"
   ]
  },
  {
   "cell_type": "code",
   "execution_count": 159,
   "id": "bda8152e",
   "metadata": {},
   "outputs": [
    {
     "name": "stdout",
     "output_type": "stream",
     "text": [
      "1\n",
      "2\n",
      "3\n"
     ]
    }
   ],
   "source": [
    "i=0\n",
    "while i<3:\n",
    "    i+=1\n",
    "    print(i)"
   ]
  },
  {
   "cell_type": "markdown",
   "id": "f609d692",
   "metadata": {},
   "source": [
    "**Logic and Membership**"
   ]
  },
  {
   "cell_type": "markdown",
   "id": "6839c9bc",
   "metadata": {},
   "source": [
    "Python is a truthy language in the sense that things are\n",
    "true \n",
    "\n",
    "\n",
    "**• None**\n",
    "\n",
    "**• False**\n",
    "\n",
    "**• zero of any numeric type, for example, 0, 0L, 0.0, 0j.**\n",
    "\n",
    "**• any empty sequence, for example, ”, (), []**\n",
    "\n",
    "**• any empty mapping, for example, {}.**\n",
    "\n",
    "**• instances of user-defined classes, if the class defines a __nonzero__() or\n",
    "__len__() method, when that method returns the integer zero or bool value\n",
    "False.**\n"
   ]
  },
  {
   "cell_type": "code",
   "execution_count": 160,
   "id": "2849d94f",
   "metadata": {},
   "outputs": [
    {
     "data": {
      "text/plain": [
       "True"
      ]
     },
     "execution_count": 160,
     "metadata": {},
     "output_type": "execute_result"
    }
   ],
   "source": [
    "bool(1)"
   ]
  },
  {
   "cell_type": "code",
   "execution_count": 161,
   "id": "9f62bc12",
   "metadata": {},
   "outputs": [
    {
     "data": {
      "text/plain": [
       "False"
      ]
     },
     "execution_count": 161,
     "metadata": {},
     "output_type": "execute_result"
    }
   ],
   "source": [
    "bool([])"
   ]
  },
  {
   "cell_type": "code",
   "execution_count": 162,
   "id": "29e791ab",
   "metadata": {},
   "outputs": [
    {
     "data": {
      "text/plain": [
       "False"
      ]
     },
     "execution_count": 162,
     "metadata": {},
     "output_type": "execute_result"
    }
   ],
   "source": [
    "bool({})"
   ]
  },
  {
   "cell_type": "code",
   "execution_count": 163,
   "id": "5c17de31",
   "metadata": {},
   "outputs": [
    {
     "data": {
      "text/plain": [
       "False"
      ]
     },
     "execution_count": 163,
     "metadata": {},
     "output_type": "execute_result"
    }
   ],
   "source": [
    "bool(0)"
   ]
  },
  {
   "cell_type": "code",
   "execution_count": 164,
   "id": "278b8c82",
   "metadata": {},
   "outputs": [
    {
     "data": {
      "text/plain": [
       "True"
      ]
     },
     "execution_count": 164,
     "metadata": {},
     "output_type": "execute_result"
    }
   ],
   "source": [
    "bool([0,])"
   ]
  },
  {
   "cell_type": "code",
   "execution_count": 165,
   "id": "7805726f",
   "metadata": {},
   "outputs": [
    {
     "data": {
      "text/plain": [
       "True"
      ]
     },
     "execution_count": 165,
     "metadata": {},
     "output_type": "execute_result"
    }
   ],
   "source": [
    "3.2<10<20"
   ]
  },
  {
   "cell_type": "code",
   "execution_count": 166,
   "id": "2e8bfba1",
   "metadata": {},
   "outputs": [
    {
     "data": {
      "text/plain": [
       "True"
      ]
     },
     "execution_count": 166,
     "metadata": {},
     "output_type": "execute_result"
    }
   ],
   "source": [
    "True\n"
   ]
  },
  {
   "cell_type": "code",
   "execution_count": 167,
   "id": "258f810e",
   "metadata": {},
   "outputs": [
    {
     "data": {
      "text/plain": [
       "True"
      ]
     },
     "execution_count": 167,
     "metadata": {},
     "output_type": "execute_result"
    }
   ],
   "source": [
    "(1,2,3)<(4,5,6)"
   ]
  },
  {
   "cell_type": "code",
   "execution_count": 168,
   "id": "3373d67e",
   "metadata": {},
   "outputs": [
    {
     "data": {
      "text/plain": [
       "False"
      ]
     },
     "execution_count": 168,
     "metadata": {},
     "output_type": "execute_result"
    }
   ],
   "source": [
    "(1,2,3)<(0,1,2)"
   ]
  },
  {
   "cell_type": "markdown",
   "id": "f314eb16",
   "metadata": {},
   "source": [
    "Do not use relative comparison for Python strings (i.e., ’a’< ’b’) which is obtuse\n",
    "to read. Use string matching operations instead (i.e., ==). Membership testing uses\n",
    "the in keyword."
   ]
  },
  {
   "cell_type": "code",
   "execution_count": 169,
   "id": "45250c5f",
   "metadata": {},
   "outputs": [
    {
     "data": {
      "text/plain": [
       "False"
      ]
     },
     "execution_count": 169,
     "metadata": {},
     "output_type": "execute_result"
    }
   ],
   "source": [
    "'on ' in [22,['one','too','throw']]"
   ]
  },
  {
   "cell_type": "code",
   "execution_count": 170,
   "id": "2f86b625",
   "metadata": {},
   "outputs": [
    {
     "data": {
      "text/plain": [
       "False"
      ]
     },
     "execution_count": 170,
     "metadata": {},
     "output_type": "execute_result"
    }
   ],
   "source": [
    "'one ' in [22,['one','too','throw']]"
   ]
  },
  {
   "cell_type": "code",
   "execution_count": 171,
   "id": "230f8bba",
   "metadata": {},
   "outputs": [
    {
     "data": {
      "text/plain": [
       "True"
      ]
     },
     "execution_count": 171,
     "metadata": {},
     "output_type": "execute_result"
    }
   ],
   "source": [
    "'one' in [22,'one',['too','throw']]"
   ]
  },
  {
   "cell_type": "code",
   "execution_count": 172,
   "id": "639a2074",
   "metadata": {},
   "outputs": [
    {
     "data": {
      "text/plain": [
       "False"
      ]
     },
     "execution_count": 172,
     "metadata": {},
     "output_type": "execute_result"
    }
   ],
   "source": [
    "['too','throw'] not in [22,'one',['too','throw']]"
   ]
  },
  {
   "cell_type": "markdown",
   "id": "d0dff4df",
   "metadata": {},
   "source": [
    "If you are testing membership across millions of elements it is much faster to use\n",
    "set() instead of list."
   ]
  },
  {
   "cell_type": "code",
   "execution_count": 173,
   "id": "0aae645e",
   "metadata": {},
   "outputs": [
    {
     "data": {
      "text/plain": [
       "True"
      ]
     },
     "execution_count": 173,
     "metadata": {},
     "output_type": "execute_result"
    }
   ],
   "source": [
    "'one' in {'one','two','three'}"
   ]
  },
  {
   "cell_type": "code",
   "execution_count": 174,
   "id": "066e1770",
   "metadata": {},
   "outputs": [
    {
     "data": {
      "text/plain": [
       "False"
      ]
     },
     "execution_count": 174,
     "metadata": {},
     "output_type": "execute_result"
    }
   ],
   "source": [
    "x = 'Gaurav Singh'\n",
    "y = 'Gaurav Singh'\n",
    "x is y"
   ]
  },
  {
   "cell_type": "code",
   "execution_count": 175,
   "id": "dc81f8ec",
   "metadata": {},
   "outputs": [
    {
     "data": {
      "text/plain": [
       "True"
      ]
     },
     "execution_count": 175,
     "metadata": {},
     "output_type": "execute_result"
    }
   ],
   "source": [
    "x==y"
   ]
  },
  {
   "cell_type": "code",
   "execution_count": 176,
   "id": "10839986",
   "metadata": {},
   "outputs": [
    {
     "data": {
      "text/plain": [
       "(1854276388784, 1854276388784)"
      ]
     },
     "execution_count": 176,
     "metadata": {},
     "output_type": "execute_result"
    }
   ],
   "source": [
    "x=y= 'this string'\n",
    "id(x),id(y)"
   ]
  },
  {
   "cell_type": "code",
   "execution_count": 177,
   "id": "b10cd786",
   "metadata": {},
   "outputs": [
    {
     "data": {
      "text/plain": [
       "True"
      ]
     },
     "execution_count": 177,
     "metadata": {},
     "output_type": "execute_result"
    }
   ],
   "source": [
    "x is y"
   ]
  },
  {
   "cell_type": "markdown",
   "id": "6dc06f04",
   "metadata": {},
   "source": [
    "**conditionals**"
   ]
  },
  {
   "cell_type": "code",
   "execution_count": 178,
   "id": "82294508",
   "metadata": {},
   "outputs": [
    {
     "name": "stdout",
     "output_type": "stream",
     "text": [
      "one less than two\n"
     ]
    }
   ],
   "source": [
    "if 1<2:\n",
    "    print('one less than two')"
   ]
  },
  {
   "cell_type": "code",
   "execution_count": 179,
   "id": "4e767783",
   "metadata": {},
   "outputs": [
    {
     "name": "stdout",
     "output_type": "stream",
     "text": [
      "a otherwise\n"
     ]
    }
   ],
   "source": [
    "a=121\n",
    "if a<10:\n",
    "    print('a less than 10')\n",
    "elif a<20:\n",
    "    print('a less than 20')\n",
    "else:\n",
    "    print('a otherwise')"
   ]
  },
  {
   "cell_type": "markdown",
   "id": "95d6933b",
   "metadata": {},
   "source": [
    "**list Compersion**"
   ]
  },
  {
   "cell_type": "code",
   "execution_count": 180,
   "id": "5403b2d6",
   "metadata": {},
   "outputs": [],
   "source": [
    "out=[] #intialize container\n",
    "for i in range (10):\n",
    "    out.append(i**2)"
   ]
  },
  {
   "cell_type": "code",
   "execution_count": 181,
   "id": "8c5d8f81",
   "metadata": {},
   "outputs": [
    {
     "data": {
      "text/plain": [
       "[0, 1, 4, 9, 16, 25, 36, 49, 64, 81]"
      ]
     },
     "execution_count": 181,
     "metadata": {},
     "output_type": "execute_result"
    }
   ],
   "source": [
    "out"
   ]
  },
  {
   "cell_type": "code",
   "execution_count": 182,
   "id": "c714d823",
   "metadata": {},
   "outputs": [
    {
     "data": {
      "text/plain": [
       "[0, 1, 4, 9, 16, 25, 36, 49, 64, 81]"
      ]
     },
     "execution_count": 182,
     "metadata": {},
     "output_type": "execute_result"
    }
   ],
   "source": [
    "[i**2 for i in range(10)]  #This can be abbreviated as a list comprehension\n",
    "#  squares of integers"
   ]
  },
  {
   "cell_type": "code",
   "execution_count": 183,
   "id": "99728803",
   "metadata": {},
   "outputs": [
    {
     "data": {
      "text/plain": [
       "[1, 9, 25, 49, 81]"
      ]
     },
     "execution_count": 183,
     "metadata": {},
     "output_type": "execute_result"
    }
   ],
   "source": [
    "[i**2 for i in range(10) if i%2] #embedded conditional"
   ]
  },
  {
   "cell_type": "code",
   "execution_count": 184,
   "id": "f95b8e74",
   "metadata": {},
   "outputs": [],
   "source": [
    "out=[]\n",
    "for i in range(10):\n",
    "    if i%2:\n",
    "        out.append(i**2)"
   ]
  },
  {
   "cell_type": "code",
   "execution_count": 185,
   "id": "2c4e81de",
   "metadata": {},
   "outputs": [
    {
     "data": {
      "text/plain": [
       "[1, 9, 25, 49, 81]"
      ]
     },
     "execution_count": 185,
     "metadata": {},
     "output_type": "execute_result"
    }
   ],
   "source": [
    "out"
   ]
  },
  {
   "cell_type": "code",
   "execution_count": 186,
   "id": "25d63bd7",
   "metadata": {},
   "outputs": [
    {
     "data": {
      "text/plain": [
       "{0: 0, 1: 1, 2: 4, 3: 9, 4: 16}"
      ]
     },
     "execution_count": 186,
     "metadata": {},
     "output_type": "execute_result"
    }
   ],
   "source": [
    "#These comprehension also work with dictionaries and sets\n",
    "{i:i**2 for i in range (5)} #dictionary"
   ]
  },
  {
   "cell_type": "code",
   "execution_count": 187,
   "id": "faa88173",
   "metadata": {},
   "outputs": [
    {
     "data": {
      "text/plain": [
       "{0, 1, 4, 9, 16}"
      ]
     },
     "execution_count": 187,
     "metadata": {},
     "output_type": "execute_result"
    }
   ],
   "source": [
    "{i**2 for i in range(5)} #set"
   ]
  },
  {
   "cell_type": "markdown",
   "id": "25893914",
   "metadata": {},
   "source": [
    "**Functions**"
   ]
  },
  {
   "cell_type": "code",
   "execution_count": 188,
   "id": "ecf96aac",
   "metadata": {},
   "outputs": [],
   "source": [
    "def foo():\n",
    "    return 'I said foo'"
   ]
  },
  {
   "cell_type": "code",
   "execution_count": 189,
   "id": "fbba555a",
   "metadata": {},
   "outputs": [
    {
     "data": {
      "text/plain": [
       "'I said foo'"
      ]
     },
     "execution_count": 189,
     "metadata": {},
     "output_type": "execute_result"
    }
   ],
   "source": [
    "foo()"
   ]
  },
  {
   "cell_type": "code",
   "execution_count": 190,
   "id": "bd8e8b20",
   "metadata": {},
   "outputs": [
    {
     "data": {
      "text/plain": [
       "<function __main__.foo()>"
      ]
     },
     "execution_count": 190,
     "metadata": {},
     "output_type": "execute_result"
    }
   ],
   "source": [
    "foo"
   ]
  },
  {
   "cell_type": "markdown",
   "id": "b5bc576c",
   "metadata": {},
   "source": [
    "**Note** \n",
    "\n",
    "that you need a return statement and the trailing parenthesis to invoke the\n",
    "function. Without the return statement, the functions returns the None singleton."
   ]
  },
  {
   "cell_type": "markdown",
   "id": "2b982cd3",
   "metadata": {},
   "source": [
    "**There are two kind of function**\n",
    "\n",
    "argument positional \n",
    "\n",
    "and \n",
    "\n",
    "keyword."
   ]
  },
  {
   "cell_type": "code",
   "execution_count": 191,
   "id": "80807fdc",
   "metadata": {},
   "outputs": [
    {
     "data": {
      "text/plain": [
       "20"
      ]
     },
     "execution_count": 191,
     "metadata": {},
     "output_type": "execute_result"
    }
   ],
   "source": [
    "def foo(x):  #positional argument\n",
    "    return x*2\n",
    "foo(10)"
   ]
  },
  {
   "cell_type": "code",
   "execution_count": 192,
   "id": "e66e8bf0",
   "metadata": {},
   "outputs": [],
   "source": [
    "def foo(x,y):\n",
    "    print('x=',x,'y=',y)"
   ]
  },
  {
   "cell_type": "code",
   "execution_count": 193,
   "id": "a74df256",
   "metadata": {},
   "outputs": [
    {
     "name": "stdout",
     "output_type": "stream",
     "text": [
      "x= 1 y= 2\n"
     ]
    }
   ],
   "source": [
    "foo(1,2)"
   ]
  },
  {
   "cell_type": "code",
   "execution_count": 194,
   "id": "b398ee34",
   "metadata": {},
   "outputs": [
    {
     "name": "stdout",
     "output_type": "stream",
     "text": [
      "x= 2 y= 20\n"
     ]
    }
   ],
   "source": [
    "foo(2,20)"
   ]
  },
  {
   "cell_type": "code",
   "execution_count": 195,
   "id": "1f396f4d",
   "metadata": {},
   "outputs": [
    {
     "name": "stdout",
     "output_type": "stream",
     "text": [
      "x= 1 y= 2\n"
     ]
    }
   ],
   "source": [
    "foo(y=2,x=1)"
   ]
  },
  {
   "cell_type": "markdown",
   "id": "580bde74",
   "metadata": {},
   "source": [
    "keywords arguments allow you to specify defaults."
   ]
  },
  {
   "cell_type": "code",
   "execution_count": 196,
   "id": "e88268e7",
   "metadata": {},
   "outputs": [
    {
     "data": {
      "text/plain": [
       "40"
      ]
     },
     "execution_count": 196,
     "metadata": {},
     "output_type": "execute_result"
    }
   ],
   "source": [
    "def foo(x=20):  #keywords named argument\n",
    "    return 2*x\n",
    "foo()   #in this case default values is taken "
   ]
  },
  {
   "cell_type": "code",
   "execution_count": 197,
   "id": "e4c727f4",
   "metadata": {},
   "outputs": [
    {
     "data": {
      "text/plain": [
       "2"
      ]
     },
     "execution_count": 197,
     "metadata": {},
     "output_type": "execute_result"
    }
   ],
   "source": [
    "foo(1)"
   ]
  },
  {
   "cell_type": "code",
   "execution_count": 198,
   "id": "ca4e0f9e",
   "metadata": {},
   "outputs": [
    {
     "data": {
      "text/plain": [
       "30"
      ]
     },
     "execution_count": 198,
     "metadata": {},
     "output_type": "execute_result"
    }
   ],
   "source": [
    "def foo(x=10,y=20):\n",
    "    return x+y\n",
    "foo()"
   ]
  },
  {
   "cell_type": "code",
   "execution_count": 199,
   "id": "0cecc4d3",
   "metadata": {},
   "outputs": [
    {
     "data": {
      "text/plain": [
       "21"
      ]
     },
     "execution_count": 199,
     "metadata": {},
     "output_type": "execute_result"
    }
   ],
   "source": [
    "foo(1,)"
   ]
  },
  {
   "cell_type": "code",
   "execution_count": 200,
   "id": "814c86e6",
   "metadata": {},
   "outputs": [
    {
     "ename": "SyntaxError",
     "evalue": "invalid syntax (957716596.py, line 1)",
     "output_type": "error",
     "traceback": [
      "\u001b[1;36m  Cell \u001b[1;32mIn[200], line 1\u001b[1;36m\u001b[0m\n\u001b[1;33m    foo(,1)\u001b[0m\n\u001b[1;37m        ^\u001b[0m\n\u001b[1;31mSyntaxError\u001b[0m\u001b[1;31m:\u001b[0m invalid syntax\n"
     ]
    }
   ],
   "source": [
    "foo(,1)"
   ]
  },
  {
   "cell_type": "code",
   "execution_count": 201,
   "id": "acd77066",
   "metadata": {},
   "outputs": [
    {
     "data": {
      "text/plain": [
       "11"
      ]
     },
     "execution_count": 201,
     "metadata": {},
     "output_type": "execute_result"
    }
   ],
   "source": [
    "foo(y=1)"
   ]
  },
  {
   "cell_type": "code",
   "execution_count": 202,
   "id": "6cf96127",
   "metadata": {},
   "outputs": [
    {
     "data": {
      "text/plain": [
       "2"
      ]
     },
     "execution_count": 202,
     "metadata": {},
     "output_type": "execute_result"
    }
   ],
   "source": [
    "foo(1,1)"
   ]
  },
  {
   "cell_type": "code",
   "execution_count": 203,
   "id": "0bfec07b",
   "metadata": {},
   "outputs": [
    {
     "name": "stdout",
     "output_type": "stream",
     "text": [
      "Help on function foo in module __main__:\n",
      "\n",
      "foo(x=10, y=20)\n",
      "\n"
     ]
    }
   ],
   "source": [
    "help(foo)"
   ]
  },
  {
   "cell_type": "markdown",
   "id": "c5279084",
   "metadata": {},
   "source": [
    "**Whenever possible, provide meaningful variable names and defaults for your\n",
    "functions along with documentation strings. This makes your code easy to\n",
    "navigate, understand, and use.**\n"
   ]
  },
  {
   "cell_type": "code",
   "execution_count": 204,
   "id": "69ccdf3e",
   "metadata": {},
   "outputs": [
    {
     "name": "stdout",
     "output_type": "stream",
     "text": [
      "Help on function compute_this in module __main__:\n",
      "\n",
      "compute_this(position=20, velocity=30)\n",
      "    position in m \n",
      "    velocity in m/s\n",
      "\n"
     ]
    }
   ],
   "source": [
    "#Python makes it easy to include documentation for your functions using docstrings.\n",
    "#Thise makes the help function more useful for functions.\n",
    "def compute_this(position=20,velocity=30):\n",
    "    '''position in m \n",
    "    velocity in m/s'''\n",
    "    return x+y\n",
    "help(compute_this)\n"
   ]
  },
  {
   "cell_type": "code",
   "execution_count": 205,
   "id": "10c39b48",
   "metadata": {},
   "outputs": [
    {
     "data": {
      "text/plain": [
       "100"
      ]
     },
     "execution_count": 205,
     "metadata": {},
     "output_type": "execute_result"
    }
   ],
   "source": [
    "#lambda function is called anonymous function\n",
    "f=lambda x:  x**2   #anonymous function\n",
    "    \n",
    "f(10)"
   ]
  },
  {
   "cell_type": "code",
   "execution_count": 206,
   "id": "2dfc01f5",
   "metadata": {},
   "outputs": [
    {
     "data": {
      "text/plain": [
       "[<function __main__.<lambda>(x)>, <function __main__.<lambda>(x)>]"
      ]
     },
     "execution_count": 206,
     "metadata": {},
     "output_type": "execute_result"
    }
   ],
   "source": [
    "[lambda x:x, lambda x:x**2]  #list of functions"
   ]
  },
  {
   "cell_type": "code",
   "execution_count": 207,
   "id": "8773b3eb",
   "metadata": {},
   "outputs": [
    {
     "name": "stdout",
     "output_type": "stream",
     "text": [
      "10\n",
      "100\n"
     ]
    }
   ],
   "source": [
    "for i in [lambda x:x, lambda x:x**2]:\n",
    "    print(i(10))"
   ]
  },
  {
   "cell_type": "code",
   "execution_count": 208,
   "id": "05c3cd63",
   "metadata": {},
   "outputs": [
    {
     "data": {
      "text/plain": [
       "6"
      ]
     },
     "execution_count": 208,
     "metadata": {},
     "output_type": "execute_result"
    }
   ],
   "source": [
    "def foo(x,y,z):\n",
    "    return  x+y+z\n",
    "\n",
    "foo(1,2,3)"
   ]
  },
  {
   "cell_type": "code",
   "execution_count": 209,
   "id": "838fce2a",
   "metadata": {},
   "outputs": [
    {
     "data": {
      "text/plain": [
       "6"
      ]
     },
     "execution_count": 209,
     "metadata": {},
     "output_type": "execute_result"
    }
   ],
   "source": [
    "args=(1,2,3)\n",
    "foo(*args) #splat tuple into arguments \n"
   ]
  },
  {
   "cell_type": "code",
   "execution_count": 210,
   "id": "2fb18540",
   "metadata": {},
   "outputs": [],
   "source": [
    "#unpacking or splat \n",
    "x,y,z=1,2,3\n"
   ]
  },
  {
   "cell_type": "code",
   "execution_count": 211,
   "id": "4465a743",
   "metadata": {},
   "outputs": [
    {
     "data": {
      "text/plain": [
       "1"
      ]
     },
     "execution_count": 211,
     "metadata": {},
     "output_type": "execute_result"
    }
   ],
   "source": [
    "x"
   ]
  },
  {
   "cell_type": "code",
   "execution_count": 212,
   "id": "c2764559",
   "metadata": {},
   "outputs": [
    {
     "data": {
      "text/plain": [
       "2"
      ]
     },
     "execution_count": 212,
     "metadata": {},
     "output_type": "execute_result"
    }
   ],
   "source": [
    "y"
   ]
  },
  {
   "cell_type": "code",
   "execution_count": 213,
   "id": "1706bd02",
   "metadata": {},
   "outputs": [
    {
     "data": {
      "text/plain": [
       "3"
      ]
     },
     "execution_count": 213,
     "metadata": {},
     "output_type": "execute_result"
    }
   ],
   "source": [
    "z\n"
   ]
  },
  {
   "cell_type": "code",
   "execution_count": 214,
   "id": "9f8364d2",
   "metadata": {},
   "outputs": [
    {
     "data": {
      "text/plain": [
       "[3, 4, 5, 6]"
      ]
     },
     "execution_count": 214,
     "metadata": {},
     "output_type": "execute_result"
    }
   ],
   "source": [
    "#and you can do one thing\n",
    "\n",
    "x,y,*z=1,2,3,4,5,6\n",
    "z"
   ]
  },
  {
   "cell_type": "code",
   "execution_count": 215,
   "id": "8263a929",
   "metadata": {},
   "outputs": [
    {
     "data": {
      "text/plain": [
       "1"
      ]
     },
     "execution_count": 215,
     "metadata": {},
     "output_type": "execute_result"
    }
   ],
   "source": [
    "x"
   ]
  },
  {
   "cell_type": "code",
   "execution_count": 216,
   "id": "6eb4c789",
   "metadata": {},
   "outputs": [
    {
     "data": {
      "text/plain": [
       "2"
      ]
     },
     "execution_count": 216,
     "metadata": {},
     "output_type": "execute_result"
    }
   ],
   "source": [
    "y"
   ]
  },
  {
   "cell_type": "markdown",
   "id": "08478e5c",
   "metadata": {},
   "source": [
    " The double\n",
    "asterisk notation does the corresponding unpacking for keyword arguments"
   ]
  },
  {
   "cell_type": "code",
   "execution_count": 217,
   "id": "3d62b7a1",
   "metadata": {},
   "outputs": [
    {
     "data": {
      "text/plain": [
       "{'x': 1, 'y': 2, 'z': 3}"
      ]
     },
     "execution_count": 217,
     "metadata": {},
     "output_type": "execute_result"
    }
   ],
   "source": [
    "def foo(x=1,y=1,z=1):\n",
    "    return x+y+z\n",
    "\n",
    "kwds=dict(x=1,y=2,z=3)\n",
    "kwds"
   ]
  },
  {
   "cell_type": "code",
   "execution_count": 218,
   "id": "2b2bcb16",
   "metadata": {},
   "outputs": [
    {
     "data": {
      "text/plain": [
       "6"
      ]
     },
     "execution_count": 218,
     "metadata": {},
     "output_type": "execute_result"
    }
   ],
   "source": [
    "foo(**kwds)   #double asterisks for keyword splat\n"
   ]
  },
  {
   "cell_type": "code",
   "execution_count": 219,
   "id": "c378227f",
   "metadata": {},
   "outputs": [
    {
     "data": {
      "text/plain": [
       "(1, 2, 100, 11)"
      ]
     },
     "execution_count": 219,
     "metadata": {},
     "output_type": "execute_result"
    }
   ],
   "source": [
    "def foo(x,y,w=10,z=1):\n",
    "    return (x,y,w,z)\n",
    "args=(1,2)\n",
    "kwds=dict(w=100,z=11)\n",
    "foo(*args,**kwds)"
   ]
  },
  {
   "cell_type": "markdown",
   "id": "8204a51a",
   "metadata": {},
   "source": [
    "**Function variable scooping**"
   ]
  },
  {
   "cell_type": "code",
   "execution_count": 220,
   "id": "b39b6a15",
   "metadata": {},
   "outputs": [],
   "source": [
    "x=10\n",
    "def foo():\n",
    "    return x\n"
   ]
  },
  {
   "cell_type": "code",
   "execution_count": 221,
   "id": "dfc76c00",
   "metadata": {},
   "outputs": [
    {
     "data": {
      "text/plain": [
       "10"
      ]
     },
     "execution_count": 221,
     "metadata": {},
     "output_type": "execute_result"
    }
   ],
   "source": [
    "foo()"
   ]
  },
  {
   "cell_type": "code",
   "execution_count": 222,
   "id": "bfe4f7f1",
   "metadata": {},
   "outputs": [],
   "source": [
    "def foo():\n",
    "    x=1\n",
    "    return x\n"
   ]
  },
  {
   "cell_type": "code",
   "execution_count": 223,
   "id": "691e7470",
   "metadata": {},
   "outputs": [
    {
     "data": {
      "text/plain": [
       "1"
      ]
     },
     "execution_count": 223,
     "metadata": {},
     "output_type": "execute_result"
    }
   ],
   "source": [
    "foo()"
   ]
  },
  {
   "cell_type": "code",
   "execution_count": 224,
   "id": "d493fa85",
   "metadata": {},
   "outputs": [
    {
     "data": {
      "text/plain": [
       "10"
      ]
     },
     "execution_count": 224,
     "metadata": {},
     "output_type": "execute_result"
    }
   ],
   "source": [
    "x"
   ]
  },
  {
   "cell_type": "code",
   "execution_count": 225,
   "id": "df81dd0b",
   "metadata": {},
   "outputs": [],
   "source": [
    "def foo():\n",
    "    global x\n",
    "    x=20\n",
    "    return x\n"
   ]
  },
  {
   "cell_type": "code",
   "execution_count": 226,
   "id": "43f08f07",
   "metadata": {},
   "outputs": [
    {
     "data": {
      "text/plain": [
       "20"
      ]
     },
     "execution_count": 226,
     "metadata": {},
     "output_type": "execute_result"
    }
   ],
   "source": [
    "foo()"
   ]
  },
  {
   "cell_type": "code",
   "execution_count": 227,
   "id": "6c5c6e97",
   "metadata": {},
   "outputs": [
    {
     "data": {
      "text/plain": [
       "20"
      ]
     },
     "execution_count": 227,
     "metadata": {},
     "output_type": "execute_result"
    }
   ],
   "source": [
    "x"
   ]
  },
  {
   "cell_type": "markdown",
   "id": "9c0a4317",
   "metadata": {},
   "source": [
    "**Function Keyword Filtering**"
   ]
  },
  {
   "cell_type": "code",
   "execution_count": 228,
   "id": "0cec7e56",
   "metadata": {},
   "outputs": [],
   "source": [
    "def foo(x=1,y=2,z=3,**kwds):\n",
    "    print('in foo, kwds=%s' %(kwds))\n",
    "    return x+y+z"
   ]
  },
  {
   "cell_type": "code",
   "execution_count": 229,
   "id": "09cfd2d9",
   "metadata": {},
   "outputs": [
    {
     "name": "stdout",
     "output_type": "stream",
     "text": [
      "in foo, kwds={}\n"
     ]
    },
    {
     "data": {
      "text/plain": [
       "6"
      ]
     },
     "execution_count": 229,
     "metadata": {},
     "output_type": "execute_result"
    }
   ],
   "source": [
    "foo()"
   ]
  },
  {
   "cell_type": "code",
   "execution_count": 230,
   "id": "0db2d5c5",
   "metadata": {},
   "outputs": [
    {
     "name": "stdout",
     "output_type": "stream",
     "text": [
      "in foo, kwds={'p': 9}\n"
     ]
    },
    {
     "data": {
      "text/plain": [
       "11"
      ]
     },
     "execution_count": 230,
     "metadata": {},
     "output_type": "execute_result"
    }
   ],
   "source": [
    "foo(x=2,y=4,z=5,p=9)"
   ]
  },
  {
   "cell_type": "code",
   "execution_count": 231,
   "id": "6714c091",
   "metadata": {},
   "outputs": [
    {
     "name": "stdout",
     "output_type": "stream",
     "text": [
      "in foo, kwds={'q': 19}\n"
     ]
    },
    {
     "data": {
      "text/plain": [
       "6"
      ]
     },
     "execution_count": 231,
     "metadata": {},
     "output_type": "execute_result"
    }
   ],
   "source": [
    "foo(q=19)"
   ]
  },
  {
   "cell_type": "markdown",
   "id": "944a7e58",
   "metadata": {},
   "source": [
    "as you can see all the unwanted keywords are marked here,\n",
    "Thus, you can inject some other function in the calling sequence that does use this\n",
    "variable, without having to change the call signatures of any of the other functions.\n",
    "Using keyword arguments this way is very common when using Python to wrap\n",
    "other codes.\n",
    "Because this is such an awesome and useful Python feature"
   ]
  },
  {
   "cell_type": "code",
   "execution_count": 232,
   "id": "f9e46ad0",
   "metadata": {},
   "outputs": [],
   "source": [
    "def foo(x=1,y=2,**kwds):\n",
    "    print('foo: x=%d,y=%d,kwds=%r'%(x,y,kwds))\n",
    "    print('\\t')\n",
    "    goo(x=x,**kwds)"
   ]
  },
  {
   "cell_type": "code",
   "execution_count": 233,
   "id": "d78347f7",
   "metadata": {
    "scrolled": false
   },
   "outputs": [],
   "source": [
    "def goo(x=10,**kwds):\n",
    "    print('goo: x = %d, kwds=%r'%(x,kwds))\n",
    "    print('\\t\\t')\n",
    "   \n",
    "    "
   ]
  },
  {
   "cell_type": "code",
   "execution_count": 234,
   "id": "53931846",
   "metadata": {},
   "outputs": [
    {
     "name": "stdout",
     "output_type": "stream",
     "text": [
      "foo: x=1,y=2,kwds={'z': 3, 'k': 20}\n",
      "\t\n",
      "goo: x = 1, kwds={'z': 3, 'k': 20}\n",
      "\t\t\n"
     ]
    }
   ],
   "source": [
    "foo(x=1,y=2,z=3,k=20)"
   ]
  },
  {
   "cell_type": "code",
   "execution_count": 235,
   "id": "23c8b9c6",
   "metadata": {},
   "outputs": [],
   "source": [
    "def foo(*,x,y,z):\n",
    "    return x*y*z"
   ]
  },
  {
   "cell_type": "code",
   "execution_count": 236,
   "id": "328bc766",
   "metadata": {},
   "outputs": [
    {
     "ename": "TypeError",
     "evalue": "foo() takes 0 positional arguments but 3 were given",
     "output_type": "error",
     "traceback": [
      "\u001b[1;31m---------------------------------------------------------------------------\u001b[0m",
      "\u001b[1;31mTypeError\u001b[0m                                 Traceback (most recent call last)",
      "Cell \u001b[1;32mIn[236], line 1\u001b[0m\n\u001b[1;32m----> 1\u001b[0m foo(\u001b[38;5;241m1\u001b[39m,\u001b[38;5;241m2\u001b[39m,\u001b[38;5;241m3\u001b[39m)\n",
      "\u001b[1;31mTypeError\u001b[0m: foo() takes 0 positional arguments but 3 were given"
     ]
    }
   ],
   "source": [
    "foo(1,2,3)"
   ]
  },
  {
   "cell_type": "code",
   "execution_count": 237,
   "id": "40e1a886",
   "metadata": {},
   "outputs": [],
   "source": [
    "x=[]\n",
    "def foo():\n",
    "    x.append(10)\n",
    "    return x\n"
   ]
  },
  {
   "cell_type": "code",
   "execution_count": 238,
   "id": "383216dd",
   "metadata": {},
   "outputs": [
    {
     "data": {
      "text/plain": [
       "[10]"
      ]
     },
     "execution_count": 238,
     "metadata": {},
     "output_type": "execute_result"
    }
   ],
   "source": [
    "foo()"
   ]
  },
  {
   "cell_type": "code",
   "execution_count": 239,
   "id": "4583169d",
   "metadata": {},
   "outputs": [
    {
     "data": {
      "text/plain": [
       "[10, 10]"
      ]
     },
     "execution_count": 239,
     "metadata": {},
     "output_type": "execute_result"
    }
   ],
   "source": [
    "foo()"
   ]
  },
  {
   "cell_type": "code",
   "execution_count": 240,
   "id": "a50a93b4",
   "metadata": {},
   "outputs": [
    {
     "data": {
      "text/plain": [
       "[10, 10, 10]"
      ]
     },
     "execution_count": 240,
     "metadata": {},
     "output_type": "execute_result"
    }
   ],
   "source": [
    "foo()"
   ]
  },
  {
   "cell_type": "code",
   "execution_count": 241,
   "id": "8297be46",
   "metadata": {},
   "outputs": [
    {
     "name": "stdout",
     "output_type": "stream",
     "text": [
      "Enter the number of fibonacci terms to generate8\n",
      "Fibonacci sequence with 8 terms: [0, 1, 1, 2, 3, 5, 8, 13]\n"
     ]
    }
   ],
   "source": [
    "x=[0,1]\n",
    "def foo(n=5,**kwds):\n",
    "    while len(x)<n:\n",
    "        x.append(x[-1]+x[-2])\n",
    "    return x\n",
    "    \n",
    "n=int(input(\"Enter the number of fibonacci terms to generate\"))\n",
    "fibonacci_result = foo(n)\n",
    "print(f\"Fibonacci sequence with {n} terms: {fibonacci_result}\")"
   ]
  },
  {
   "cell_type": "markdown",
   "id": "2e629ba6",
   "metadata": {},
   "source": [
    "**now we can do some question on pythons**"
   ]
  },
  {
   "cell_type": "code",
   "execution_count": 242,
   "id": "c7f568e2",
   "metadata": {},
   "outputs": [],
   "source": [
    "#mutable and immutable\n",
    "\n",
    "#an immuatble object can't be changed after it is created. Lists, dictonaries and sets mutable types.\n"
   ]
  },
  {
   "cell_type": "code",
   "execution_count": 246,
   "id": "aba632d5",
   "metadata": {},
   "outputs": [],
   "source": [
    "def execmain():\n",
    "    x=int(input('Enter a number'))\n",
    "    if(abs(x)==x):\n",
    "        print(\"you entered a positive number\")\n",
    "        \n",
    "    else:\n",
    "        x*=-1\n",
    "        print(\"Number made positive :\",x)\n",
    "    \n",
    "    "
   ]
  },
  {
   "cell_type": "code",
   "execution_count": 247,
   "id": "a31866a2",
   "metadata": {},
   "outputs": [
    {
     "name": "stdout",
     "output_type": "stream",
     "text": [
      "Enter a number8\n",
      "you entered a positive number\n"
     ]
    }
   ],
   "source": [
    "execmain()"
   ]
  },
  {
   "cell_type": "code",
   "execution_count": 249,
   "id": "9ffdfce2",
   "metadata": {},
   "outputs": [
    {
     "name": "stdout",
     "output_type": "stream",
     "text": [
      "1 : 900\n",
      "1900\n",
      "2 : 2200\n",
      "3200\n",
      "3 : 3600\n",
      "4600\n"
     ]
    }
   ],
   "source": [
    "L1=[100,900,300,400,500]\n",
    "START=1\n",
    "SUM=0\n",
    "for C in range(START,4):\n",
    "    SUM=SUM+L1[C]\n",
    "    print(C,\":\",SUM)\n",
    "    SUM=SUM+L1[0]*10\n",
    "    print(SUM)\n"
   ]
  },
  {
   "cell_type": "code",
   "execution_count": 259,
   "id": "dea116cb",
   "metadata": {},
   "outputs": [],
   "source": [
    " def ChangeList():\n",
    "        L=[]\n",
    "        L1=[]\n",
    "        L2=[]\n",
    "        for i in range(1,10):\n",
    "            L.append(i)\n",
    "        \n",
    "        for i in range(10,1,-2):\n",
    "            L1.append(i)\n",
    "        \n",
    "        for i in range(len(L1)):\n",
    "            L2.append(L1[i]+L[i])\n",
    "        \n",
    "        L2.append(len(L)-len(L1))\n",
    "        print(L2)\n",
    "        \n",
    "        \n",
    "        \n",
    "        \n",
    " "
   ]
  },
  {
   "cell_type": "code",
   "execution_count": 260,
   "id": "ee303aba",
   "metadata": {},
   "outputs": [
    {
     "name": "stdout",
     "output_type": "stream",
     "text": [
      "[11, 10, 9, 8, 7, 4]\n"
     ]
    }
   ],
   "source": [
    "ChangeList()"
   ]
  },
  {
   "cell_type": "code",
   "execution_count": 285,
   "id": "33e416af",
   "metadata": {},
   "outputs": [
    {
     "name": "stdout",
     "output_type": "stream",
     "text": [
      "0 : 3\n"
     ]
    }
   ],
   "source": [
    "import random \n",
    "X=random.random()\n",
    "Y=random.randint(0,4)\n",
    "print(int(X),\":\",Y+int(X))"
   ]
  },
  {
   "cell_type": "code",
   "execution_count": 286,
   "id": "90bb9ef8",
   "metadata": {},
   "outputs": [
    {
     "name": "stdout",
     "output_type": "stream",
     "text": [
      "['violet', 'indigo', 'green', 'red']\n"
     ]
    }
   ],
   "source": [
    "colors=[\"violet\",\"indigo\",\"blue\",\"green\",\"yellow\",\"orange\",\"red\"]\n",
    "del colors[4]\n",
    "colors.remove(\"blue\")\n",
    "colors.pop(3)\n",
    "print(colors)"
   ]
  },
  {
   "cell_type": "code",
   "execution_count": 287,
   "id": "f753b5b5",
   "metadata": {},
   "outputs": [
    {
     "name": "stdout",
     "output_type": "stream",
     "text": [
      "The first occurrence of str2 is at :22\n",
      "The last occurrence of str2 is at :22\n"
     ]
    }
   ],
   "source": [
    "str='Pythonforbeginners is easytolearn'\n",
    "str2=\"easy\"\n",
    "print(\"The first occurrence of str2 is at :\",end=\"\")\n",
    "print(str.find(str2,4))\n",
    "print(\"The last occurrence of str2 is at :\",end=\"\")\n",
    "print(str.rfind(str2,4))"
   ]
  },
  {
   "cell_type": "code",
   "execution_count": 291,
   "id": "a3f323ce",
   "metadata": {},
   "outputs": [],
   "source": [
    "def generateodd(a,b):\n",
    "    for i in range (a,b+1):\n",
    "        if(i%2!=0):\n",
    "            print(i)\n",
    "        \n",
    "    "
   ]
  },
  {
   "cell_type": "code",
   "execution_count": 294,
   "id": "b45dc460",
   "metadata": {},
   "outputs": [
    {
     "name": "stdout",
     "output_type": "stream",
     "text": [
      "1\n",
      "3\n",
      "5\n",
      "7\n",
      "9\n",
      "11\n",
      "13\n",
      "15\n",
      "17\n",
      "19\n",
      "21\n",
      "23\n",
      "25\n",
      "27\n",
      "29\n",
      "31\n",
      "33\n",
      "35\n",
      "37\n",
      "39\n",
      "41\n",
      "43\n",
      "45\n",
      "47\n",
      "49\n",
      "51\n",
      "53\n",
      "55\n",
      "57\n",
      "59\n",
      "61\n",
      "63\n",
      "65\n",
      "67\n",
      "69\n",
      "71\n",
      "73\n",
      "75\n",
      "77\n",
      "79\n",
      "81\n",
      "83\n",
      "85\n",
      "87\n",
      "89\n",
      "91\n",
      "93\n",
      "95\n",
      "97\n"
     ]
    }
   ],
   "source": [
    "generateodd(1,98)"
   ]
  },
  {
   "cell_type": "code",
   "execution_count": 295,
   "id": "1b36888e",
   "metadata": {},
   "outputs": [
    {
     "data": {
      "text/plain": [
       "25"
      ]
     },
     "execution_count": 295,
     "metadata": {},
     "output_type": "execute_result"
    }
   ],
   "source": [
    "def square(x):\n",
    "    return x*x\n",
    "\n",
    "square(5)"
   ]
  },
  {
   "cell_type": "code",
   "execution_count": 296,
   "id": "c342fea3",
   "metadata": {},
   "outputs": [
    {
     "data": {
      "text/plain": [
       "13"
      ]
     },
     "execution_count": 296,
     "metadata": {},
     "output_type": "execute_result"
    }
   ],
   "source": [
    "square(2)+square(3)"
   ]
  },
  {
   "cell_type": "code",
   "execution_count": 297,
   "id": "23cef5a3",
   "metadata": {},
   "outputs": [
    {
     "data": {
      "text/plain": [
       "81"
      ]
     },
     "execution_count": 297,
     "metadata": {},
     "output_type": "execute_result"
    }
   ],
   "source": [
    "square(square(3))"
   ]
  },
  {
   "cell_type": "code",
   "execution_count": 298,
   "id": "2aa6eb04",
   "metadata": {},
   "outputs": [
    {
     "data": {
      "text/plain": [
       "13"
      ]
     },
     "execution_count": 298,
     "metadata": {},
     "output_type": "execute_result"
    }
   ],
   "source": [
    "def sum_of_square(x,y):\n",
    "    return square(x) + square(y)\n",
    "\n",
    "sum_of_square(2,3)"
   ]
  },
  {
   "cell_type": "code",
   "execution_count": 299,
   "id": "7e8e86c4",
   "metadata": {},
   "outputs": [
    {
     "data": {
      "text/plain": [
       "25"
      ]
     },
     "execution_count": 299,
     "metadata": {},
     "output_type": "execute_result"
    }
   ],
   "source": [
    "sum_of_square(3,4)"
   ]
  },
  {
   "cell_type": "code",
   "execution_count": 300,
   "id": "65bc8adb",
   "metadata": {},
   "outputs": [
    {
     "data": {
      "text/plain": [
       "16"
      ]
     },
     "execution_count": 300,
     "metadata": {},
     "output_type": "execute_result"
    }
   ],
   "source": [
    "f=square\n",
    "f(4)"
   ]
  },
  {
   "cell_type": "code",
   "execution_count": 301,
   "id": "700e60ff",
   "metadata": {},
   "outputs": [
    {
     "data": {
      "text/plain": [
       "81"
      ]
     },
     "execution_count": 301,
     "metadata": {},
     "output_type": "execute_result"
    }
   ],
   "source": [
    "f(9)"
   ]
  },
  {
   "cell_type": "code",
   "execution_count": 303,
   "id": "4bd04c11",
   "metadata": {},
   "outputs": [],
   "source": [
    "pi= 3.14\n",
    "def area(r):\n",
    "    return pi*r*r"
   ]
  },
  {
   "cell_type": "code",
   "execution_count": 304,
   "id": "aef54dfe",
   "metadata": {},
   "outputs": [
    {
     "data": {
      "text/plain": [
       "12.56"
      ]
     },
     "execution_count": 304,
     "metadata": {},
     "output_type": "execute_result"
    }
   ],
   "source": [
    "area(2)"
   ]
  },
  {
   "cell_type": "code",
   "execution_count": 305,
   "id": "b053a9d0",
   "metadata": {},
   "outputs": [],
   "source": [
    "numcalls=0\n",
    "def square(x):\n",
    "    global numcalls\n",
    "    numcalls=numcalls +1\n",
    "    return x*x"
   ]
  },
  {
   "cell_type": "code",
   "execution_count": 307,
   "id": "c393affe",
   "metadata": {},
   "outputs": [
    {
     "data": {
      "text/plain": [
       "4"
      ]
     },
     "execution_count": 307,
     "metadata": {},
     "output_type": "execute_result"
    }
   ],
   "source": [
    "square(2)"
   ]
  },
  {
   "cell_type": "code",
   "execution_count": null,
   "id": "d6d73106",
   "metadata": {},
   "outputs": [],
   "source": []
  }
 ],
 "metadata": {
  "kernelspec": {
   "display_name": "Python 3 (ipykernel)",
   "language": "python",
   "name": "python3"
  },
  "language_info": {
   "codemirror_mode": {
    "name": "ipython",
    "version": 3
   },
   "file_extension": ".py",
   "mimetype": "text/x-python",
   "name": "python",
   "nbconvert_exporter": "python",
   "pygments_lexer": "ipython3",
   "version": "3.11.4"
  }
 },
 "nbformat": 4,
 "nbformat_minor": 5
}
