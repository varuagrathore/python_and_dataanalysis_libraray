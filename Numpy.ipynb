{
 "cells": [
  {
   "cell_type": "markdown",
   "id": "68064eb5",
   "metadata": {},
   "source": [
    "**Numpy provides a unified way to manage numerical arrays in Python"
   ]
  },
  {
   "cell_type": "code",
   "execution_count": 1,
   "id": "865a8644",
   "metadata": {},
   "outputs": [],
   "source": [
    "import numpy as np "
   ]
  },
  {
   "cell_type": "code",
   "execution_count": 2,
   "id": "3dfb737f",
   "metadata": {},
   "outputs": [],
   "source": [
    "a=np.array([0],np.int16) #16-bit integer"
   ]
  },
  {
   "cell_type": "code",
   "execution_count": 3,
   "id": "288fc23b",
   "metadata": {},
   "outputs": [
    {
     "data": {
      "text/plain": [
       "2"
      ]
     },
     "execution_count": 3,
     "metadata": {},
     "output_type": "execute_result"
    }
   ],
   "source": [
    "a.itemsize #in 8-bit bytes"
   ]
  },
  {
   "cell_type": "code",
   "execution_count": 4,
   "id": "bd0e04e8",
   "metadata": {},
   "outputs": [
    {
     "data": {
      "text/plain": [
       "2"
      ]
     },
     "execution_count": 4,
     "metadata": {},
     "output_type": "execute_result"
    }
   ],
   "source": [
    "a.nbytes"
   ]
  },
  {
   "cell_type": "code",
   "execution_count": 5,
   "id": "54fb7099",
   "metadata": {},
   "outputs": [
    {
     "data": {
      "text/plain": [
       "8"
      ]
     },
     "execution_count": 5,
     "metadata": {},
     "output_type": "execute_result"
    }
   ],
   "source": [
    "a=np.array([0],np.int64) #64-bit integer\n",
    "a.itemsize"
   ]
  },
  {
   "cell_type": "code",
   "execution_count": 6,
   "id": "d7aa1301",
   "metadata": {},
   "outputs": [
    {
     "data": {
      "text/plain": [
       "(5,)"
      ]
     },
     "execution_count": 6,
     "metadata": {},
     "output_type": "execute_result"
    }
   ],
   "source": [
    "b=np.array([0,1,2,23,4],np.int64) #64-bit integer\n",
    "b.shape"
   ]
  },
  {
   "cell_type": "code",
   "execution_count": 7,
   "id": "5b03feb6",
   "metadata": {},
   "outputs": [
    {
     "data": {
      "text/plain": [
       "8"
      ]
     },
     "execution_count": 7,
     "metadata": {},
     "output_type": "execute_result"
    }
   ],
   "source": [
    "b.itemsize"
   ]
  },
  {
   "cell_type": "code",
   "execution_count": 8,
   "id": "bbde5aae",
   "metadata": {},
   "outputs": [
    {
     "data": {
      "text/plain": [
       "8"
      ]
     },
     "execution_count": 8,
     "metadata": {},
     "output_type": "execute_result"
    }
   ],
   "source": [
    "a.nbytes"
   ]
  },
  {
   "cell_type": "code",
   "execution_count": 9,
   "id": "aa28ce4b",
   "metadata": {},
   "outputs": [],
   "source": [
    "a=np.array([1,2])"
   ]
  },
  {
   "cell_type": "code",
   "execution_count": 10,
   "id": "49885607",
   "metadata": {},
   "outputs": [
    {
     "data": {
      "text/plain": [
       "array([1, 2])"
      ]
     },
     "execution_count": 10,
     "metadata": {},
     "output_type": "execute_result"
    }
   ],
   "source": [
    "a"
   ]
  },
  {
   "cell_type": "code",
   "execution_count": 11,
   "id": "d4cae448",
   "metadata": {},
   "outputs": [
    {
     "ename": "IndexError",
     "evalue": "index 2 is out of bounds for axis 0 with size 2",
     "output_type": "error",
     "traceback": [
      "\u001b[1;31m---------------------------------------------------------------------------\u001b[0m",
      "\u001b[1;31mIndexError\u001b[0m                                Traceback (most recent call last)",
      "Cell \u001b[1;32mIn[11], line 2\u001b[0m\n\u001b[0;32m      1\u001b[0m \u001b[38;5;66;03m#Note that you cannot tack on extra elements to a Numpy array after creation\u001b[39;00m\n\u001b[1;32m----> 2\u001b[0m a[\u001b[38;5;241m2\u001b[39m]\u001b[38;5;241m=\u001b[39m\u001b[38;5;241m32\u001b[39m\n",
      "\u001b[1;31mIndexError\u001b[0m: index 2 is out of bounds for axis 0 with size 2"
     ]
    }
   ],
   "source": [
    "#Note that you cannot tack on extra elements to a Numpy array after creation\n",
    "a[2]=32"
   ]
  },
  {
   "cell_type": "markdown",
   "id": "db0e29cd",
   "metadata": {},
   "source": [
    "**This is because the block of memory has already been delineated and Numpy will\n",
    "not allocate new memory and copy data without explicit instruction. Also, once you\n",
    "create the array with a specific dtype, assigning to that array will cast to that type"
   ]
  },
  {
   "cell_type": "code",
   "execution_count": 12,
   "id": "ee0df3c4",
   "metadata": {},
   "outputs": [],
   "source": [
    "#for example\n",
    "x=np.array(range(5),dtype=int)"
   ]
  },
  {
   "cell_type": "code",
   "execution_count": 13,
   "id": "f02033b0",
   "metadata": {},
   "outputs": [],
   "source": [
    "x[0]=1.33   # float assignment does not match dtype=int"
   ]
  },
  {
   "cell_type": "code",
   "execution_count": 14,
   "id": "d9b2c2cd",
   "metadata": {},
   "outputs": [
    {
     "data": {
      "text/plain": [
       "array([1, 1, 2, 3, 4])"
      ]
     },
     "execution_count": 14,
     "metadata": {},
     "output_type": "execute_result"
    }
   ],
   "source": [
    "x"
   ]
  },
  {
   "cell_type": "code",
   "execution_count": 15,
   "id": "82180f8d",
   "metadata": {},
   "outputs": [
    {
     "ename": "ValueError",
     "evalue": "invalid literal for int() with base 10: 'this is a string'",
     "output_type": "error",
     "traceback": [
      "\u001b[1;31m---------------------------------------------------------------------------\u001b[0m",
      "\u001b[1;31mValueError\u001b[0m                                Traceback (most recent call last)",
      "Cell \u001b[1;32mIn[15], line 1\u001b[0m\n\u001b[1;32m----> 1\u001b[0m x[\u001b[38;5;241m0\u001b[39m]\u001b[38;5;241m=\u001b[39m\u001b[38;5;124m'\u001b[39m\u001b[38;5;124mthis is a string\u001b[39m\u001b[38;5;124m'\u001b[39m\n",
      "\u001b[1;31mValueError\u001b[0m: invalid literal for int() with base 10: 'this is a string'"
     ]
    }
   ],
   "source": [
    "x[0]='this is a string'"
   ]
  },
  {
   "cell_type": "markdown",
   "id": "ee865cbe",
   "metadata": {},
   "source": [
    "**Multidimensional Arrays"
   ]
  },
  {
   "cell_type": "code",
   "execution_count": 16,
   "id": "63765f9e",
   "metadata": {},
   "outputs": [],
   "source": [
    "a=np.array([[1,3],[4,5]]) #omitting dtypes picks default"
   ]
  },
  {
   "cell_type": "code",
   "execution_count": 17,
   "id": "5cf08830",
   "metadata": {},
   "outputs": [
    {
     "data": {
      "text/plain": [
       "array([[1, 3],\n",
       "       [4, 5]])"
      ]
     },
     "execution_count": 17,
     "metadata": {},
     "output_type": "execute_result"
    }
   ],
   "source": [
    "a"
   ]
  },
  {
   "cell_type": "code",
   "execution_count": 18,
   "id": "5e27bc11",
   "metadata": {},
   "outputs": [
    {
     "data": {
      "text/plain": [
       "dtype('int32')"
      ]
     },
     "execution_count": 18,
     "metadata": {},
     "output_type": "execute_result"
    }
   ],
   "source": [
    "a.dtype"
   ]
  },
  {
   "cell_type": "code",
   "execution_count": 19,
   "id": "ba170281",
   "metadata": {},
   "outputs": [
    {
     "data": {
      "text/plain": [
       "(2, 2)"
      ]
     },
     "execution_count": 19,
     "metadata": {},
     "output_type": "execute_result"
    }
   ],
   "source": [
    "a.shape"
   ]
  },
  {
   "cell_type": "code",
   "execution_count": 20,
   "id": "f762aa5e",
   "metadata": {},
   "outputs": [
    {
     "data": {
      "text/plain": [
       "16"
      ]
     },
     "execution_count": 20,
     "metadata": {},
     "output_type": "execute_result"
    }
   ],
   "source": [
    "a.nbytes"
   ]
  },
  {
   "cell_type": "code",
   "execution_count": 21,
   "id": "1c9ba4f4",
   "metadata": {},
   "outputs": [
    {
     "data": {
      "text/plain": [
       "array([1, 3, 4, 5])"
      ]
     },
     "execution_count": 21,
     "metadata": {},
     "output_type": "execute_result"
    }
   ],
   "source": [
    "a.flatten()"
   ]
  },
  {
   "cell_type": "code",
   "execution_count": 22,
   "id": "ea50b8a5",
   "metadata": {},
   "outputs": [
    {
     "data": {
      "text/plain": [
       "array([0, 1, 2, 3, 4, 5, 6, 7, 8, 9])"
      ]
     },
     "execution_count": 22,
     "metadata": {},
     "output_type": "execute_result"
    }
   ],
   "source": [
    "a=np.arange(10)\n",
    "a"
   ]
  },
  {
   "cell_type": "code",
   "execution_count": 23,
   "id": "7aa4652b",
   "metadata": {},
   "outputs": [
    {
     "data": {
      "text/plain": [
       "array([[1., 1.],\n",
       "       [1., 1.]])"
      ]
     },
     "execution_count": 23,
     "metadata": {},
     "output_type": "execute_result"
    }
   ],
   "source": [
    "np.ones([2,2])"
   ]
  },
  {
   "cell_type": "code",
   "execution_count": 24,
   "id": "587d3cfa",
   "metadata": {},
   "outputs": [
    {
     "data": {
      "text/plain": [
       "array([0.  , 0.25, 0.5 , 0.75, 1.  ])"
      ]
     },
     "execution_count": 24,
     "metadata": {},
     "output_type": "execute_result"
    }
   ],
   "source": [
    "a=np.linspace(0,1,5)\n",
    "a"
   ]
  },
  {
   "cell_type": "code",
   "execution_count": 25,
   "id": "fd6ba984",
   "metadata": {},
   "outputs": [],
   "source": [
    "x,y=np.meshgrid([1,2,3],[5,6])"
   ]
  },
  {
   "cell_type": "code",
   "execution_count": 26,
   "id": "91ed50e9",
   "metadata": {},
   "outputs": [
    {
     "data": {
      "text/plain": [
       "array([[1, 2, 3],\n",
       "       [1, 2, 3]])"
      ]
     },
     "execution_count": 26,
     "metadata": {},
     "output_type": "execute_result"
    }
   ],
   "source": [
    "x"
   ]
  },
  {
   "cell_type": "code",
   "execution_count": 27,
   "id": "d787bc81",
   "metadata": {},
   "outputs": [
    {
     "data": {
      "text/plain": [
       "array([[5, 5, 5],\n",
       "       [6, 6, 6]])"
      ]
     },
     "execution_count": 27,
     "metadata": {},
     "output_type": "execute_result"
    }
   ],
   "source": [
    "y"
   ]
  },
  {
   "cell_type": "code",
   "execution_count": 28,
   "id": "d6db8506",
   "metadata": {},
   "outputs": [],
   "source": [
    "a=np.zeros((2,2))"
   ]
  },
  {
   "cell_type": "code",
   "execution_count": 29,
   "id": "eb5b6261",
   "metadata": {},
   "outputs": [
    {
     "data": {
      "text/plain": [
       "array([[0., 0.],\n",
       "       [0., 0.]])"
      ]
     },
     "execution_count": 29,
     "metadata": {},
     "output_type": "execute_result"
    }
   ],
   "source": [
    "a"
   ]
  },
  {
   "cell_type": "code",
   "execution_count": 30,
   "id": "5c15f6b8",
   "metadata": {},
   "outputs": [
    {
     "data": {
      "text/plain": [
       "array([[ True,  True, False, False],\n",
       "       [ True,  True,  True, False],\n",
       "       [False,  True,  True,  True],\n",
       "       [False, False,  True,  True]])"
      ]
     },
     "execution_count": 30,
     "metadata": {},
     "output_type": "execute_result"
    }
   ],
   "source": [
    "#abs=> it gives the distance of a number from zero on the number line, regardless of the direction.\n",
    "np.fromfunction(lambda i,j: abs(i-j)<=1,(4,4))"
   ]
  },
  {
   "cell_type": "code",
   "execution_count": 31,
   "id": "61bc2e10",
   "metadata": {},
   "outputs": [],
   "source": [
    "a=np.zeros((2,2), dtype=[('x','f4')])"
   ]
  },
  {
   "cell_type": "code",
   "execution_count": 32,
   "id": "2b4b1b1f",
   "metadata": {
    "scrolled": true
   },
   "outputs": [
    {
     "data": {
      "text/plain": [
       "array([[0., 0.],\n",
       "       [0., 0.]], dtype=float32)"
      ]
     },
     "execution_count": 32,
     "metadata": {},
     "output_type": "execute_result"
    }
   ],
   "source": [
    "a['x']"
   ]
  },
  {
   "cell_type": "code",
   "execution_count": 33,
   "id": "bd282b19",
   "metadata": {},
   "outputs": [],
   "source": [
    "x=np.array([(1,2)], dtype=[('value','f4'),('amount','c8')])"
   ]
  },
  {
   "cell_type": "code",
   "execution_count": 34,
   "id": "56eca85b",
   "metadata": {},
   "outputs": [
    {
     "data": {
      "text/plain": [
       "array([1.], dtype=float32)"
      ]
     },
     "execution_count": 34,
     "metadata": {},
     "output_type": "execute_result"
    }
   ],
   "source": [
    "x['value']"
   ]
  },
  {
   "cell_type": "code",
   "execution_count": 35,
   "id": "ddb2e960",
   "metadata": {},
   "outputs": [
    {
     "data": {
      "text/plain": [
       "array([2.+0.j], dtype=complex64)"
      ]
     },
     "execution_count": 35,
     "metadata": {},
     "output_type": "execute_result"
    }
   ],
   "source": [
    "x['amount']"
   ]
  },
  {
   "cell_type": "code",
   "execution_count": null,
   "id": "95565fda",
   "metadata": {},
   "outputs": [],
   "source": []
  },
  {
   "cell_type": "markdown",
   "id": "5b1a01a0",
   "metadata": {},
   "source": [
    "**Reshaping and Stacking Numpy Arrays**"
   ]
  },
  {
   "cell_type": "code",
   "execution_count": 36,
   "id": "9a06e764",
   "metadata": {},
   "outputs": [],
   "source": [
    "x=np.arange(5)\n",
    "y=np.array([9,10,11,12,13])"
   ]
  },
  {
   "cell_type": "code",
   "execution_count": 37,
   "id": "66fcae79",
   "metadata": {},
   "outputs": [
    {
     "data": {
      "text/plain": [
       "array([ 0,  1,  2,  3,  4,  9, 10, 11, 12, 13])"
      ]
     },
     "execution_count": 37,
     "metadata": {},
     "output_type": "execute_result"
    }
   ],
   "source": [
    "np.hstack([x,y]) #stack horizontally"
   ]
  },
  {
   "cell_type": "code",
   "execution_count": 38,
   "id": "d25df151",
   "metadata": {},
   "outputs": [
    {
     "data": {
      "text/plain": [
       "array([[ 0,  1,  2,  3,  4],\n",
       "       [ 9, 10, 11, 12, 13]])"
      ]
     },
     "execution_count": 38,
     "metadata": {},
     "output_type": "execute_result"
    }
   ],
   "source": [
    "np.vstack([x,y]) #stack vertically"
   ]
  },
  {
   "cell_type": "code",
   "execution_count": 39,
   "id": "73d473b2",
   "metadata": {},
   "outputs": [
    {
     "data": {
      "text/plain": [
       "array([[[ 0,  9],\n",
       "        [ 1, 10],\n",
       "        [ 2, 11],\n",
       "        [ 3, 12],\n",
       "        [ 4, 13]]])"
      ]
     },
     "execution_count": 39,
     "metadata": {},
     "output_type": "execute_result"
    }
   ],
   "source": [
    "np.dstack([x,y])  #dstack method if you want to stack in the third depth dimension"
   ]
  },
  {
   "cell_type": "markdown",
   "id": "fdcd4e9c",
   "metadata": {},
   "source": [
    "Numpy np.concatenate handles the general arbitrary-dimension case. In some\n",
    "codes (e.g., scikit-learn), you may find the terse np.c_ and np.r_ used to\n",
    "stack arrays column-wise and row-wise:"
   ]
  },
  {
   "cell_type": "code",
   "execution_count": 40,
   "id": "3d69622c",
   "metadata": {},
   "outputs": [
    {
     "data": {
      "text/plain": [
       "array([[ 0,  9],\n",
       "       [ 1, 10],\n",
       "       [ 2, 11],\n",
       "       [ 3, 12],\n",
       "       [ 4, 13]])"
      ]
     },
     "execution_count": 40,
     "metadata": {},
     "output_type": "execute_result"
    }
   ],
   "source": [
    "np.c_[x,y]"
   ]
  },
  {
   "cell_type": "code",
   "execution_count": 41,
   "id": "f0af5f34",
   "metadata": {},
   "outputs": [
    {
     "data": {
      "text/plain": [
       "array([ 0,  1,  2,  3,  4,  9, 10, 11, 12, 13])"
      ]
     },
     "execution_count": 41,
     "metadata": {},
     "output_type": "execute_result"
    }
   ],
   "source": [
    "np.r_[x,y]"
   ]
  },
  {
   "cell_type": "markdown",
   "id": "94391f50",
   "metadata": {},
   "source": [
    "**Duplicating Numpy Arrays**"
   ]
  },
  {
   "cell_type": "markdown",
   "id": "ec811a75",
   "metadata": {},
   "source": [
    "Numpy has a repeat function for duplicating elements and a more generalized\n",
    "version in tile that lays out a block matrix of the specified shape,"
   ]
  },
  {
   "cell_type": "code",
   "execution_count": 42,
   "id": "2fc2e1af",
   "metadata": {},
   "outputs": [],
   "source": [
    "x=np.arange(4)"
   ]
  },
  {
   "cell_type": "code",
   "execution_count": 43,
   "id": "74468212",
   "metadata": {},
   "outputs": [
    {
     "data": {
      "text/plain": [
       "array([0, 0, 1, 1, 2, 2, 3, 3])"
      ]
     },
     "execution_count": 43,
     "metadata": {},
     "output_type": "execute_result"
    }
   ],
   "source": [
    "np.repeat(x,2)"
   ]
  },
  {
   "cell_type": "code",
   "execution_count": 44,
   "id": "71f7a78b",
   "metadata": {},
   "outputs": [
    {
     "data": {
      "text/plain": [
       "array([[0, 1, 2, 3],\n",
       "       [0, 1, 2, 3]])"
      ]
     },
     "execution_count": 44,
     "metadata": {},
     "output_type": "execute_result"
    }
   ],
   "source": [
    "np.tile(x,(2,1))"
   ]
  },
  {
   "cell_type": "code",
   "execution_count": 45,
   "id": "b6482913",
   "metadata": {},
   "outputs": [
    {
     "data": {
      "text/plain": [
       "array([[0, 1, 2, 3, 0, 1, 2, 3],\n",
       "       [0, 1, 2, 3, 0, 1, 2, 3]])"
      ]
     },
     "execution_count": 45,
     "metadata": {},
     "output_type": "execute_result"
    }
   ],
   "source": [
    "np.tile(x,(2,2))"
   ]
  },
  {
   "cell_type": "code",
   "execution_count": 46,
   "id": "1ff9163b",
   "metadata": {},
   "outputs": [
    {
     "data": {
      "text/plain": [
       "array(['a', 'b', 'cow', 'Gaurav', 'Anushka'], dtype='<U7')"
      ]
     },
     "execution_count": 46,
     "metadata": {},
     "output_type": "execute_result"
    }
   ],
   "source": [
    "#non-numerics\n",
    "np.array(['a','b','cow','Gaurav','Anushka'])"
   ]
  },
  {
   "cell_type": "markdown",
   "id": "6b8cce0b",
   "metadata": {},
   "source": [
    "**Reshaping Numpy Arrays**"
   ]
  },
  {
   "cell_type": "code",
   "execution_count": 47,
   "id": "0b1e8d16",
   "metadata": {},
   "outputs": [],
   "source": [
    "a=np.arange(10).reshape(2,5)"
   ]
  },
  {
   "cell_type": "code",
   "execution_count": 48,
   "id": "ee172307",
   "metadata": {},
   "outputs": [
    {
     "data": {
      "text/plain": [
       "array([[0, 1, 2, 3, 4],\n",
       "       [5, 6, 7, 8, 9]])"
      ]
     },
     "execution_count": 48,
     "metadata": {},
     "output_type": "execute_result"
    }
   ],
   "source": [
    "a"
   ]
  },
  {
   "cell_type": "code",
   "execution_count": 49,
   "id": "0ab16cd8",
   "metadata": {},
   "outputs": [
    {
     "data": {
      "text/plain": [
       "array([[0, 1, 2, 3, 4],\n",
       "       [5, 6, 7, 8, 9]])"
      ]
     },
     "execution_count": 49,
     "metadata": {},
     "output_type": "execute_result"
    }
   ],
   "source": [
    "a.reshape(-1,5)"
   ]
  },
  {
   "cell_type": "code",
   "execution_count": 50,
   "id": "b74eea55",
   "metadata": {},
   "outputs": [
    {
     "ename": "ValueError",
     "evalue": "cannot reshape array of size 10 into shape (3,5)",
     "output_type": "error",
     "traceback": [
      "\u001b[1;31m---------------------------------------------------------------------------\u001b[0m",
      "\u001b[1;31mValueError\u001b[0m                                Traceback (most recent call last)",
      "Cell \u001b[1;32mIn[50], line 1\u001b[0m\n\u001b[1;32m----> 1\u001b[0m a\u001b[38;5;241m.\u001b[39mreshape(\u001b[38;5;241m3\u001b[39m,\u001b[38;5;241m5\u001b[39m)\n",
      "\u001b[1;31mValueError\u001b[0m: cannot reshape array of size 10 into shape (3,5)"
     ]
    }
   ],
   "source": [
    "a.reshape(3,5)"
   ]
  },
  {
   "cell_type": "code",
   "execution_count": 51,
   "id": "5211ea2b",
   "metadata": {},
   "outputs": [
    {
     "data": {
      "text/plain": [
       "array([[0, 5],\n",
       "       [1, 6],\n",
       "       [2, 7],\n",
       "       [3, 8],\n",
       "       [4, 9]])"
      ]
     },
     "execution_count": 51,
     "metadata": {},
     "output_type": "execute_result"
    }
   ],
   "source": [
    "a.transpose()"
   ]
  },
  {
   "cell_type": "code",
   "execution_count": 52,
   "id": "7c7e1441",
   "metadata": {
    "scrolled": true
   },
   "outputs": [
    {
     "data": {
      "text/plain": [
       "array([[0, 5],\n",
       "       [1, 6],\n",
       "       [2, 7],\n",
       "       [3, 8],\n",
       "       [4, 9]])"
      ]
     },
     "execution_count": 52,
     "metadata": {},
     "output_type": "execute_result"
    }
   ],
   "source": [
    "a.T"
   ]
  },
  {
   "cell_type": "markdown",
   "id": "7b40bee7",
   "metadata": {},
   "source": [
    "for complex numbers we can use .H \n",
    "but i don't it won't wok here"
   ]
  },
  {
   "cell_type": "code",
   "execution_count": 53,
   "id": "b60aaebb",
   "metadata": {},
   "outputs": [
    {
     "data": {
      "text/plain": [
       "array([[1.-2.j, 5.-6.j],\n",
       "       [3.+4.j, 7.+8.j]])"
      ]
     },
     "execution_count": 53,
     "metadata": {},
     "output_type": "execute_result"
    }
   ],
   "source": [
    "# Complex matrix\n",
    "a = np.array([[1+2j, 3-4j], [5+6j, 7-8j]])\n",
    "a.conj().T"
   ]
  },
  {
   "cell_type": "markdown",
   "id": "6ceb0f25",
   "metadata": {},
   "source": [
    "**Slicing, Logical Array Operations**"
   ]
  },
  {
   "cell_type": "code",
   "execution_count": 54,
   "id": "7c03ff39",
   "metadata": {},
   "outputs": [
    {
     "data": {
      "text/plain": [
       "array([[ 0,  1,  2,  3,  4,  5,  6,  7,  8,  9],\n",
       "       [10, 11, 12, 13, 14, 15, 16, 17, 18, 19],\n",
       "       [20, 21, 22, 23, 24, 25, 26, 27, 28, 29],\n",
       "       [30, 31, 32, 33, 34, 35, 36, 37, 38, 39],\n",
       "       [40, 41, 42, 43, 44, 45, 46, 47, 48, 49]])"
      ]
     },
     "execution_count": 54,
     "metadata": {},
     "output_type": "execute_result"
    }
   ],
   "source": [
    "x=np.arange(50).reshape(5,10)\n",
    "x"
   ]
  },
  {
   "cell_type": "code",
   "execution_count": 55,
   "id": "db77bf07",
   "metadata": {},
   "outputs": [
    {
     "data": {
      "text/plain": [
       "array([ 0, 10, 20, 30, 40])"
      ]
     },
     "execution_count": 55,
     "metadata": {},
     "output_type": "execute_result"
    }
   ],
   "source": [
    "x[:,0]  #any row ,0th column"
   ]
  },
  {
   "cell_type": "code",
   "execution_count": 56,
   "id": "4127b52f",
   "metadata": {},
   "outputs": [
    {
     "data": {
      "text/plain": [
       "array([0, 1, 2, 3, 4, 5, 6, 7, 8, 9])"
      ]
     },
     "execution_count": 56,
     "metadata": {},
     "output_type": "execute_result"
    }
   ],
   "source": [
    "x[0,:] #any column, 0th row"
   ]
  },
  {
   "cell_type": "code",
   "execution_count": 57,
   "id": "861ff53c",
   "metadata": {},
   "outputs": [
    {
     "data": {
      "text/plain": [
       "array([[14, 15],\n",
       "       [24, 25]])"
      ]
     },
     "execution_count": 57,
     "metadata": {},
     "output_type": "execute_result"
    }
   ],
   "source": [
    "x[1:3,4:6]"
   ]
  },
  {
   "cell_type": "code",
   "execution_count": 58,
   "id": "cd003d65",
   "metadata": {},
   "outputs": [
    {
     "data": {
      "text/plain": [
       "array([[ 0,  1,  2,  3,  4,  5,  6,  7,  8,  9],\n",
       "       [10, 11, 12, 13, 14, 15, 16, 17, 18, 19],\n",
       "       [20, 21, 22, 23, 24, 25, 26, 27, 28, 29],\n",
       "       [30, 31, 32, 33, 34, 35, 36, 37, 38, 39],\n",
       "       [40, 41, 42, 43, 44, 45, 46, 47, 48, 49]])"
      ]
     },
     "execution_count": 58,
     "metadata": {},
     "output_type": "execute_result"
    }
   ],
   "source": [
    "x=np.arange(50).reshape(5,10)\n",
    "x"
   ]
  },
  {
   "cell_type": "code",
   "execution_count": 59,
   "id": "4e6a2f5c",
   "metadata": {},
   "outputs": [
    {
     "data": {
      "text/plain": [
       "array([[[ 0,  1,  2,  3],\n",
       "        [ 4,  5,  6,  7],\n",
       "        [ 8,  9, 10, 11]],\n",
       "\n",
       "       [[12, 13, 14, 15],\n",
       "        [16, 17, 18, 19],\n",
       "        [20, 21, 22, 23]]])"
      ]
     },
     "execution_count": 59,
     "metadata": {},
     "output_type": "execute_result"
    }
   ],
   "source": [
    "x = np.arange(2*3*4).reshape(2,3,4)\n",
    "x"
   ]
  },
  {
   "cell_type": "code",
   "execution_count": 60,
   "id": "9cf4117c",
   "metadata": {},
   "outputs": [
    {
     "data": {
      "text/plain": [
       "(array([0, 0, 0, 0, 0, 0, 1, 1, 1, 1, 1, 1], dtype=int64),\n",
       " array([0, 0, 1, 1, 2, 2, 0, 0, 1, 1, 2, 2], dtype=int64),\n",
       " array([0, 2, 0, 2, 0, 2, 0, 2, 0, 2, 0, 2], dtype=int64))"
      ]
     },
     "execution_count": 60,
     "metadata": {},
     "output_type": "execute_result"
    }
   ],
   "source": [
    "np.where(x%2==0)"
   ]
  },
  {
   "cell_type": "code",
   "execution_count": 61,
   "id": "f3b501b2",
   "metadata": {},
   "outputs": [
    {
     "data": {
      "text/plain": [
       "array([ 0,  2,  4,  6,  8, 10, 12, 14, 16, 18, 20, 22])"
      ]
     },
     "execution_count": 61,
     "metadata": {},
     "output_type": "execute_result"
    }
   ],
   "source": [
    "x[np.where(x%2==0)]"
   ]
  },
  {
   "cell_type": "code",
   "execution_count": 62,
   "id": "b7168462",
   "metadata": {},
   "outputs": [
    {
     "data": {
      "text/plain": [
       "array([0, 2, 4, 6, 8])"
      ]
     },
     "execution_count": 62,
     "metadata": {},
     "output_type": "execute_result"
    }
   ],
   "source": [
    "x[np.where(np.logical_and(x%2==0,x<9))]"
   ]
  },
  {
   "cell_type": "code",
   "execution_count": 63,
   "id": "6a27fa29",
   "metadata": {},
   "outputs": [
    {
     "data": {
      "text/plain": [
       "array([ 0,  1,  2,  3,  4,  5,  6,  7,  8, 10, 12, 14, 16, 18, 20, 22])"
      ]
     },
     "execution_count": 63,
     "metadata": {},
     "output_type": "execute_result"
    }
   ],
   "source": [
    "x[np.where(np.logical_or(x%2==0,x<9))]"
   ]
  },
  {
   "cell_type": "code",
   "execution_count": 64,
   "id": "850db64b",
   "metadata": {},
   "outputs": [],
   "source": [
    " a=np.arange(9).reshape((3,3))"
   ]
  },
  {
   "cell_type": "code",
   "execution_count": 65,
   "id": "0701289f",
   "metadata": {},
   "outputs": [
    {
     "data": {
      "text/plain": [
       "array([[0, 1, 2],\n",
       "       [3, 4, 5],\n",
       "       [6, 7, 8]])"
      ]
     },
     "execution_count": 65,
     "metadata": {},
     "output_type": "execute_result"
    }
   ],
   "source": [
    "a"
   ]
  },
  {
   "cell_type": "code",
   "execution_count": 66,
   "id": "76770ae2",
   "metadata": {},
   "outputs": [
    {
     "data": {
      "text/plain": [
       "array([[ True,  True, False],\n",
       "       [ True,  True,  True],\n",
       "       [False,  True,  True]])"
      ]
     },
     "execution_count": 66,
     "metadata": {},
     "output_type": "execute_result"
    }
   ],
   "source": [
    "b=np.fromfunction(lambda i,j:abs(i-j) <=1,(3,3))\n",
    "b"
   ]
  },
  {
   "cell_type": "code",
   "execution_count": 67,
   "id": "f43b7c06",
   "metadata": {},
   "outputs": [
    {
     "data": {
      "text/plain": [
       "array([0, 1, 3, 4, 5, 7, 8])"
      ]
     },
     "execution_count": 67,
     "metadata": {},
     "output_type": "execute_result"
    }
   ],
   "source": [
    "a[b]"
   ]
  },
  {
   "cell_type": "code",
   "execution_count": 68,
   "id": "08232ce7",
   "metadata": {
    "scrolled": true
   },
   "outputs": [
    {
     "data": {
      "text/plain": [
       "array([[False, False, False],\n",
       "       [False, False,  True],\n",
       "       [ True,  True,  True]])"
      ]
     },
     "execution_count": 68,
     "metadata": {},
     "output_type": "execute_result"
    }
   ],
   "source": [
    "b=(a>4)\n",
    "b"
   ]
  },
  {
   "cell_type": "code",
   "execution_count": 69,
   "id": "9247f47d",
   "metadata": {},
   "outputs": [
    {
     "data": {
      "text/plain": [
       "array([5, 6, 7, 8])"
      ]
     },
     "execution_count": 69,
     "metadata": {},
     "output_type": "execute_result"
    }
   ],
   "source": [
    "a[b]"
   ]
  },
  {
   "cell_type": "markdown",
   "id": "e12b2bcf",
   "metadata": {},
   "source": [
    "**Slicing in NumPy:**\n",
    "\n",
    "NumPy slicing usually creates views, not copies. Views are references to the original data, and modifying the view will affect the original array.\n",
    "This behavior is different from regular Python lists, where slicing creates copies.\n",
    "\n",
    "\n",
    "**Advanced Indexing:**\n",
    "\n",
    "Advanced indexing in NumPy involves using arrays of indices or boolean masks to access elements.\n",
    "When the indexing object is a non-tuple sequence, another NumPy array, or a tuple with at least one sequence or NumPy array, it may create copies. "
   ]
  },
  {
   "cell_type": "code",
   "execution_count": 70,
   "id": "b3ab7064",
   "metadata": {},
   "outputs": [],
   "source": [
    "x=np.ones((3,3))"
   ]
  },
  {
   "cell_type": "code",
   "execution_count": 71,
   "id": "4b6f3379",
   "metadata": {},
   "outputs": [
    {
     "data": {
      "text/plain": [
       "array([[1., 1., 1.],\n",
       "       [1., 1., 1.],\n",
       "       [1., 1., 1.]])"
      ]
     },
     "execution_count": 71,
     "metadata": {},
     "output_type": "execute_result"
    }
   ],
   "source": [
    "x"
   ]
  },
  {
   "cell_type": "code",
   "execution_count": 72,
   "id": "940bea7d",
   "metadata": {},
   "outputs": [
    {
     "data": {
      "text/plain": [
       "array([[1., 1., 1., 1.],\n",
       "       [1., 1., 1., 1.],\n",
       "       [1., 1., 1., 1.]])"
      ]
     },
     "execution_count": 72,
     "metadata": {},
     "output_type": "execute_result"
    }
   ],
   "source": [
    "x[:,[0,1,2,2]]"
   ]
  },
  {
   "cell_type": "code",
   "execution_count": 73,
   "id": "189592b1",
   "metadata": {},
   "outputs": [],
   "source": [
    "y=x[:,[0,1,2,2]]"
   ]
  },
  {
   "cell_type": "code",
   "execution_count": 74,
   "id": "4cfbad0d",
   "metadata": {},
   "outputs": [
    {
     "data": {
      "text/plain": [
       "array([[1., 1., 1., 1.],\n",
       "       [1., 1., 1., 1.],\n",
       "       [1., 1., 1., 1.]])"
      ]
     },
     "execution_count": 74,
     "metadata": {},
     "output_type": "execute_result"
    }
   ],
   "source": [
    "y"
   ]
  },
  {
   "cell_type": "code",
   "execution_count": 75,
   "id": "c4027955",
   "metadata": {},
   "outputs": [],
   "source": [
    "y=x[:2,:2]"
   ]
  },
  {
   "cell_type": "code",
   "execution_count": 76,
   "id": "eb856587",
   "metadata": {},
   "outputs": [
    {
     "data": {
      "text/plain": [
       "array([[1., 1.],\n",
       "       [1., 1.]])"
      ]
     },
     "execution_count": 76,
     "metadata": {},
     "output_type": "execute_result"
    }
   ],
   "source": [
    "y"
   ]
  },
  {
   "cell_type": "code",
   "execution_count": 77,
   "id": "cfc91b27",
   "metadata": {},
   "outputs": [],
   "source": [
    "x[0,0]=99"
   ]
  },
  {
   "cell_type": "code",
   "execution_count": 78,
   "id": "e7d5cdf6",
   "metadata": {},
   "outputs": [
    {
     "data": {
      "text/plain": [
       "array([[99.,  1.,  1.],\n",
       "       [ 1.,  1.,  1.],\n",
       "       [ 1.,  1.,  1.]])"
      ]
     },
     "execution_count": 78,
     "metadata": {},
     "output_type": "execute_result"
    }
   ],
   "source": [
    "x"
   ]
  },
  {
   "cell_type": "code",
   "execution_count": 79,
   "id": "b0b9799b",
   "metadata": {},
   "outputs": [
    {
     "data": {
      "text/plain": [
       "array([[99.,  1.],\n",
       "       [ 1.,  1.]])"
      ]
     },
     "execution_count": 79,
     "metadata": {},
     "output_type": "execute_result"
    }
   ],
   "source": [
    "y"
   ]
  },
  {
   "cell_type": "markdown",
   "id": "26f67228",
   "metadata": {},
   "source": [
    "The first operation (y = x[:2, :2]) creates a view, and modifications to one affect the other.\n",
    "because a view is just a window into the same memory:\n",
    "\n",
    "The second operation (y = x[:, [0, 1, 2, 2]]) involves advanced indexing and creates a copy, so modifications to one do not affect the other."
   ]
  },
  {
   "cell_type": "markdown",
   "id": "5b34b7db",
   "metadata": {},
   "source": [
    "Note that if you want to explicitly force a copy without any indexing tricks, you can\n",
    "do y=x.copy(). The code below works through another example of advanced\n",
    "indexing versus slicing:"
   ]
  },
  {
   "cell_type": "code",
   "execution_count": 80,
   "id": "effa9127",
   "metadata": {},
   "outputs": [
    {
     "name": "stdout",
     "output_type": "stream",
     "text": [
      "Original array (x): [999   1   2   3   4]\n",
      "Sliced array (y_slicing): [999   1   2]\n",
      "Advanced indexed array (y_advanced_indexing): [0 1 2]\n",
      "Explicit copy array (y_explicit_copy): [0 1 2 3 4]\n"
     ]
    }
   ],
   "source": [
    "import numpy as np\n",
    "\n",
    "# Create an array\n",
    "x = np.arange(5)\n",
    "\n",
    "# Using slicing to create a view\n",
    "y_slicing = x[:3]\n",
    "\n",
    "# Using advanced indexing to create a copy\n",
    "y_advanced_indexing = x[[0, 1, 2]]\n",
    "\n",
    "# Using the copy method\n",
    "y_explicit_copy = x.copy()\n",
    "\n",
    "# Modify the original array\n",
    "x[0] = 999\n",
    "\n",
    "# Print the arrays\n",
    "print(\"Original array (x):\", x)\n",
    "print(\"Sliced array (y_slicing):\", y_slicing)\n",
    "print(\"Advanced indexed array (y_advanced_indexing):\", y_advanced_indexing)\n",
    "print(\"Explicit copy array (y_explicit_copy):\", y_explicit_copy)\n"
   ]
  },
  {
   "cell_type": "markdown",
   "id": "47dd14f1",
   "metadata": {},
   "source": [
    "**overlapping Numpy Arrays**"
   ]
  },
  {
   "cell_type": "code",
   "execution_count": 81,
   "id": "55ad98e3",
   "metadata": {},
   "outputs": [
    {
     "data": {
      "text/plain": [
       "array([[ 0,  1,  2,  3],\n",
       "       [ 2,  3,  4,  5],\n",
       "       [ 4,  5,  6,  7],\n",
       "       [ 6,  7,  8,  9],\n",
       "       [ 8,  9, 10, 11],\n",
       "       [10, 11, 12, 13],\n",
       "       [12, 13, 14, 15]])"
      ]
     },
     "execution_count": 81,
     "metadata": {},
     "output_type": "execute_result"
    }
   ],
   "source": [
    "from numpy.lib.stride_tricks import as_strided\n",
    "x=np.arange(16).astype(np.int32)\n",
    "y=as_strided(x,(7,4),(8,4))\n",
    "y"
   ]
  },
  {
   "cell_type": "markdown",
   "id": "ca27e943",
   "metadata": {},
   "source": [
    "\n",
    "\n",
    "Original Array x:\n",
    "[ 0  1  2  3  4  5  6  7  8  9 10 11 12 13 14 15]\n",
    "\n",
    "Strided Array y:\n",
    "\n",
    "1. **Rows (along the first dimension):**\n",
    "   - Starting at the first row (row 0), the initial element is 0.\n",
    "   - To move to the next row (row 1), it jumps 8 bytes in memory (8 elements * 4 bytes per element).\n",
    "   - Similarly, for subsequent rows, each row starts where the previous row left off, moving 8 bytes forward.\n",
    "\n",
    "   | Row Index | Starting Element | Stride |\n",
    "   |-----------|------------------|--------|\n",
    "   | 0         | 0                | 8      |\n",
    "   | 1         | 2                | 8      |\n",
    "   | 2         | 4                | 8      |\n",
    "   | 3         | 6                | 8      |\n",
    "   | 4         | 8                | 8      |\n",
    "   | 5         | 10               | 8      |\n",
    "   | 6         | 12               | 8      |\n",
    "\n",
    "2. **Columns (along the second dimension):**\n",
    "   - Within each row, to move to the next column, it jumps 4 bytes in memory (4 bytes per element).\n",
    "\n",
    "   | Column Index | Starting Element | Stride |\n",
    "   |--------------|------------------|--------|\n",
    "   | 0            | 0                | 4      |\n",
    "   | 1            | 1                | 4      |\n",
    "   | 2            | 2                | 4      |\n",
    "   | 3            | 3                | 4      |\n",
    "\n",
    "In summary, the `strides` parameter `(8, 4)` is responsible for creating overlapping blocks in the array `y`. The first dimension (rows) strides 8 bytes, creating overlapping rows, and the second dimension (columns) strides 4 bytes within each row. This results in an efficient representation of overlapping blocks without copying the original data."
   ]
  },
  {
   "cell_type": "code",
   "execution_count": 82,
   "id": "eddfa476",
   "metadata": {},
   "outputs": [],
   "source": [
    "x[::2]=99"
   ]
  },
  {
   "cell_type": "code",
   "execution_count": 83,
   "id": "7ac98e54",
   "metadata": {},
   "outputs": [
    {
     "data": {
      "text/plain": [
       "array([99,  1, 99,  3, 99,  5, 99,  7, 99,  9, 99, 11, 99, 13, 99, 15])"
      ]
     },
     "execution_count": 83,
     "metadata": {},
     "output_type": "execute_result"
    }
   ],
   "source": [
    "x"
   ]
  },
  {
   "cell_type": "code",
   "execution_count": 84,
   "id": "7fd1c8e4",
   "metadata": {},
   "outputs": [
    {
     "data": {
      "text/plain": [
       "array([[99,  1, 99,  3],\n",
       "       [99,  3, 99,  5],\n",
       "       [99,  5, 99,  7],\n",
       "       [99,  7, 99,  9],\n",
       "       [99,  9, 99, 11],\n",
       "       [99, 11, 99, 13],\n",
       "       [99, 13, 99, 15]])"
      ]
     },
     "execution_count": 84,
     "metadata": {},
     "output_type": "execute_result"
    }
   ],
   "source": [
    "y"
   ]
  },
  {
   "cell_type": "code",
   "execution_count": null,
   "id": "505c2f52",
   "metadata": {},
   "outputs": [],
   "source": []
  }
 ],
 "metadata": {
  "kernelspec": {
   "display_name": "Python 3 (ipykernel)",
   "language": "python",
   "name": "python3"
  },
  "language_info": {
   "codemirror_mode": {
    "name": "ipython",
    "version": 3
   },
   "file_extension": ".py",
   "mimetype": "text/x-python",
   "name": "python",
   "nbconvert_exporter": "python",
   "pygments_lexer": "ipython3",
   "version": "3.11.4"
  }
 },
 "nbformat": 4,
 "nbformat_minor": 5
}
